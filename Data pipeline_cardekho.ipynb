{
 "cells": [
  {
   "cell_type": "markdown",
   "id": "d512816a-db66-4e94-b44c-af945620bec0",
   "metadata": {},
   "source": [
    "# 1. Data merging and unpacking"
   ]
  },
  {
   "cell_type": "code",
   "execution_count": 256,
   "id": "36033b8a-189f-4169-8ef4-444e9ef6f8cd",
   "metadata": {},
   "outputs": [],
   "source": [
    "import numpy as np\n",
    "import ast\n",
    "import re\n",
    "import matplotlib.pyplot as plt\n",
    "import seaborn as sns\n",
    "import scipy.stats as stats\n",
    "import pandas as pd\n"
   ]
  },
  {
   "cell_type": "code",
   "execution_count": 260,
   "id": "c73d95fb-5eb9-4031-864e-0433a9491b6d",
   "metadata": {},
   "outputs": [
    {
     "name": "stdout",
     "output_type": "stream",
     "text": [
      "C:\\Users\\saina\\OneDrive\\Desktop\\PROJECT 3\n"
     ]
    }
   ],
   "source": [
    "import os\n",
    "print(os.getcwd())"
   ]
  },
  {
   "cell_type": "code",
   "execution_count": 261,
   "id": "9b396413-4ef5-41d1-ab20-bb8fec3f896b",
   "metadata": {},
   "outputs": [],
   "source": [
    "# Reading all cities excel files \n",
    "\n",
    "df_hyderabad = pd.read_excel(\"Dataset/hyderabad_cars.xlsx\")\n",
    "df_hyderabad['Location'] = 'Hyderabad'\n",
    "\n",
    "df_bangalore = pd.read_excel(\"Dataset/bangalore_cars.xlsx\")\n",
    "df_bangalore['Location'] = 'Bangalore'\n",
    "\n",
    "df_chennai = pd.read_excel(\"Dataset/chennai_cars.xlsx\")\n",
    "df_chennai['Location'] = 'Chennai'\n",
    "\n",
    "df_kolkata = pd.read_excel(\"Dataset/kolkata_cars.xlsx\")\n",
    "df_kolkata['Location'] = 'Kolkata'\n",
    "\n",
    "df_delhi = pd.read_excel(\"Dataset/delhi_cars.xlsx\")\n",
    "df_delhi['Location'] = 'Delhi'\n",
    "\n",
    "df_jaipur = pd.read_excel(\"Dataset/jaipur_cars.xlsx\")\n",
    "df_jaipur['Location'] = 'Jaipur'"
   ]
  },
  {
   "cell_type": "code",
   "execution_count": 12,
   "id": "1b781e76-d4f8-4fd6-9881-b2ab0a7d931b",
   "metadata": {},
   "outputs": [
    {
     "data": {
      "text/html": [
       "<div>\n",
       "<style scoped>\n",
       "    .dataframe tbody tr th:only-of-type {\n",
       "        vertical-align: middle;\n",
       "    }\n",
       "\n",
       "    .dataframe tbody tr th {\n",
       "        vertical-align: top;\n",
       "    }\n",
       "\n",
       "    .dataframe thead th {\n",
       "        text-align: right;\n",
       "    }\n",
       "</style>\n",
       "<table border=\"1\" class=\"dataframe\">\n",
       "  <thead>\n",
       "    <tr style=\"text-align: right;\">\n",
       "      <th></th>\n",
       "      <th>new_car_detail</th>\n",
       "      <th>new_car_overview</th>\n",
       "      <th>new_car_feature</th>\n",
       "      <th>new_car_specs</th>\n",
       "      <th>car_links</th>\n",
       "      <th>Location</th>\n",
       "    </tr>\n",
       "  </thead>\n",
       "  <tbody>\n",
       "    <tr>\n",
       "      <th>0</th>\n",
       "      <td>{'it': 0, 'ft': 'Petrol', 'bt': 'Hatchback', '...</td>\n",
       "      <td>{'heading': 'Car overview', 'top': [{'key': 'R...</td>\n",
       "      <td>{'heading': 'Features', 'top': [{'value': 'Pow...</td>\n",
       "      <td>{'heading': 'Specifications', 'top': [{'key': ...</td>\n",
       "      <td>https://www.cardekho.com/used-car-details/used...</td>\n",
       "      <td>hyderabad</td>\n",
       "    </tr>\n",
       "  </tbody>\n",
       "</table>\n",
       "</div>"
      ],
      "text/plain": [
       "                                      new_car_detail  \\\n",
       "0  {'it': 0, 'ft': 'Petrol', 'bt': 'Hatchback', '...   \n",
       "\n",
       "                                    new_car_overview  \\\n",
       "0  {'heading': 'Car overview', 'top': [{'key': 'R...   \n",
       "\n",
       "                                     new_car_feature  \\\n",
       "0  {'heading': 'Features', 'top': [{'value': 'Pow...   \n",
       "\n",
       "                                       new_car_specs  \\\n",
       "0  {'heading': 'Specifications', 'top': [{'key': ...   \n",
       "\n",
       "                                           car_links   Location  \n",
       "0  https://www.cardekho.com/used-car-details/used...  hyderabad  "
      ]
     },
     "execution_count": 12,
     "metadata": {},
     "output_type": "execute_result"
    }
   ],
   "source": [
    "# first we merge all cities dfs into one df \n",
    "\n",
    "merged_df = pd.concat([df_hyderabad, df_bangalore, df_chennai, df_kolkata, df_delhi, df_jaipur], axis=0).reset_index(drop=True)\n",
    "merged_df.head(1)"
   ]
  },
  {
   "cell_type": "code",
   "execution_count": 13,
   "id": "6a9d33de-0ada-4e6b-a635-4a038a81175b",
   "metadata": {},
   "outputs": [],
   "source": [
    "# dropped the car_links column as there is no required data in this column\n",
    "\n",
    "merged_df = merged_df.drop(['car_links'],axis=1)"
   ]
  },
  {
   "cell_type": "code",
   "execution_count": 14,
   "id": "de9671a5-3b22-4726-bba4-379a344ea70a",
   "metadata": {},
   "outputs": [],
   "source": [
    "# ast.literal_eval safely evaluates a string containing Python literals (like numbers, lists, dicts) and converts them into their corresponding data types.\n",
    "# so here we are converting string format data into dict \n",
    "\n",
    "merged_df['new_car_detail'] = merged_df['new_car_detail'].apply(ast.literal_eval)\n",
    "merged_df['new_car_overview'] = merged_df['new_car_overview'].apply(ast.literal_eval)\n",
    "merged_df['new_car_feature'] = merged_df['new_car_feature'].apply(ast.literal_eval)\n",
    "merged_df['new_car_specs'] = merged_df['new_car_specs'].apply(ast.literal_eval)"
   ]
  },
  {
   "cell_type": "code",
   "execution_count": 15,
   "id": "9c2340ff-2961-4541-9ae9-7c82527d1777",
   "metadata": {},
   "outputs": [
    {
     "data": {
      "text/html": [
       "<div>\n",
       "<style scoped>\n",
       "    .dataframe tbody tr th:only-of-type {\n",
       "        vertical-align: middle;\n",
       "    }\n",
       "\n",
       "    .dataframe tbody tr th {\n",
       "        vertical-align: top;\n",
       "    }\n",
       "\n",
       "    .dataframe thead th {\n",
       "        text-align: right;\n",
       "    }\n",
       "</style>\n",
       "<table border=\"1\" class=\"dataframe\">\n",
       "  <thead>\n",
       "    <tr style=\"text-align: right;\">\n",
       "      <th></th>\n",
       "      <th>it</th>\n",
       "      <th>ft</th>\n",
       "      <th>bt</th>\n",
       "      <th>km</th>\n",
       "      <th>transmission</th>\n",
       "      <th>ownerNo</th>\n",
       "      <th>owner</th>\n",
       "      <th>oem</th>\n",
       "      <th>model</th>\n",
       "      <th>modelYear</th>\n",
       "      <th>centralVariantId</th>\n",
       "      <th>variantName</th>\n",
       "      <th>price</th>\n",
       "      <th>priceActual</th>\n",
       "      <th>priceSaving</th>\n",
       "      <th>priceFixedText</th>\n",
       "      <th>trendingText.imgUrl</th>\n",
       "      <th>trendingText.heading</th>\n",
       "      <th>trendingText.desc</th>\n",
       "    </tr>\n",
       "  </thead>\n",
       "  <tbody>\n",
       "    <tr>\n",
       "      <th>0</th>\n",
       "      <td>0</td>\n",
       "      <td>Petrol</td>\n",
       "      <td>Hatchback</td>\n",
       "      <td>20,000</td>\n",
       "      <td>Automatic</td>\n",
       "      <td>1</td>\n",
       "      <td>1st Owner</td>\n",
       "      <td>Volkswagen</td>\n",
       "      <td>Volkswagen Polo</td>\n",
       "      <td>2022</td>\n",
       "      <td>7746</td>\n",
       "      <td>1.0 TSI Highline Plus AT</td>\n",
       "      <td>₹ 10.44 Lakh</td>\n",
       "      <td></td>\n",
       "      <td></td>\n",
       "      <td>None</td>\n",
       "      <td>https://stimg.cardekho.com/used-cars/common/ic...</td>\n",
       "      <td>Trending Car!</td>\n",
       "      <td>High chances of sale in next 6 days</td>\n",
       "    </tr>\n",
       "  </tbody>\n",
       "</table>\n",
       "</div>"
      ],
      "text/plain": [
       "   it      ft         bt      km transmission  ownerNo      owner         oem  \\\n",
       "0   0  Petrol  Hatchback  20,000    Automatic        1  1st Owner  Volkswagen   \n",
       "\n",
       "             model  modelYear  centralVariantId               variantName  \\\n",
       "0  Volkswagen Polo       2022              7746  1.0 TSI Highline Plus AT   \n",
       "\n",
       "          price priceActual priceSaving priceFixedText  \\\n",
       "0  ₹ 10.44 Lakh                                   None   \n",
       "\n",
       "                                 trendingText.imgUrl trendingText.heading  \\\n",
       "0  https://stimg.cardekho.com/used-cars/common/ic...        Trending Car!   \n",
       "\n",
       "                     trendingText.desc  \n",
       "0  High chances of sale in next 6 days  "
      ]
     },
     "execution_count": 15,
     "metadata": {},
     "output_type": "execute_result"
    }
   ],
   "source": [
    "# pd.json_normalize flattens nested JSON-like data into a flat table (DataFrame), expanding nested structures into columns.\n",
    "\n",
    "details_unpacked = pd.json_normalize(merged_df['new_car_detail'])\n",
    "details_unpacked.head(1)"
   ]
  },
  {
   "cell_type": "code",
   "execution_count": 16,
   "id": "ca0d863a-21f5-485b-b4fe-b017f719f973",
   "metadata": {},
   "outputs": [
    {
     "data": {
      "text/plain": [
       "{'heading': 'Car overview',\n",
       " 'top': [{'key': 'Registration Year',\n",
       "   'value': '2022',\n",
       "   'icon': 'https://images10.gaadi.com/listing/vdp/co/v1/registrationYear.svg'},\n",
       "  {'key': 'Insurance Validity',\n",
       "   'value': 'Third Party insurance',\n",
       "   'icon': 'https://images10.gaadi.com/listing/vdp/co/v1/insuranceValidity.svg'},\n",
       "  {'key': 'Fuel Type',\n",
       "   'value': 'Petrol',\n",
       "   'icon': 'https://images10.gaadi.com/listing/vdp/co/v1/fuel.svg'},\n",
       "  {'key': 'Seats',\n",
       "   'value': '5 Seats',\n",
       "   'icon': 'https://images10.gaadi.com/listing/vdp/co/v1/seats.svg'},\n",
       "  {'key': 'Kms Driven',\n",
       "   'value': '20,000 Kms',\n",
       "   'icon': 'https://images10.gaadi.com/listing/vdp/co/v1/kmsDriven.svg'},\n",
       "  {'key': 'RTO',\n",
       "   'value': 'TS04',\n",
       "   'icon': 'https://images10.gaadi.com/listing/vdp/co/v1/rto.svg'},\n",
       "  {'key': 'Ownership',\n",
       "   'value': 'First Owner',\n",
       "   'icon': 'https://images10.gaadi.com/listing/vdp/co/v1/ownership.svg'},\n",
       "  {'key': 'Engine Displacement',\n",
       "   'value': '999 cc',\n",
       "   'icon': 'https://images10.gaadi.com/listing/vdp/co/v1/engineDisplacement.svg'},\n",
       "  {'key': 'Transmission',\n",
       "   'value': 'Automatic',\n",
       "   'icon': 'https://images10.gaadi.com/listing/vdp/co/v1/transmission.svg'},\n",
       "  {'key': 'Year of Manufacture',\n",
       "   'value': 2022,\n",
       "   'icon': 'https://images10.gaadi.com/listing/vdp/co/v1/yearManufacture.svg'}],\n",
       " 'bottomData': None}"
      ]
     },
     "execution_count": 16,
     "metadata": {},
     "output_type": "execute_result"
    }
   ],
   "source": [
    "merged_df['new_car_overview'][0]\n",
    "\n",
    "# this is the kind of data inside new_car_overview column and we want to extract data from the key 'top' and all nested keys inside it"
   ]
  },
  {
   "cell_type": "code",
   "execution_count": 17,
   "id": "7a1ecca6-59f8-4438-85be-c7c2d2dd363b",
   "metadata": {},
   "outputs": [
    {
     "data": {
      "text/html": [
       "<div>\n",
       "<style scoped>\n",
       "    .dataframe tbody tr th:only-of-type {\n",
       "        vertical-align: middle;\n",
       "    }\n",
       "\n",
       "    .dataframe tbody tr th {\n",
       "        vertical-align: top;\n",
       "    }\n",
       "\n",
       "    .dataframe thead th {\n",
       "        text-align: right;\n",
       "    }\n",
       "</style>\n",
       "<table border=\"1\" class=\"dataframe\">\n",
       "  <thead>\n",
       "    <tr style=\"text-align: right;\">\n",
       "      <th></th>\n",
       "      <th>Registration Year</th>\n",
       "      <th>Insurance Validity</th>\n",
       "      <th>Fuel Type</th>\n",
       "      <th>Seats</th>\n",
       "      <th>Kms Driven</th>\n",
       "      <th>RTO</th>\n",
       "      <th>Ownership</th>\n",
       "      <th>Engine Displacement</th>\n",
       "      <th>Transmission</th>\n",
       "      <th>Year of Manufacture</th>\n",
       "    </tr>\n",
       "  </thead>\n",
       "  <tbody>\n",
       "    <tr>\n",
       "      <th>0</th>\n",
       "      <td>2022</td>\n",
       "      <td>Third Party insurance</td>\n",
       "      <td>Petrol</td>\n",
       "      <td>5 Seats</td>\n",
       "      <td>20,000 Kms</td>\n",
       "      <td>TS04</td>\n",
       "      <td>First Owner</td>\n",
       "      <td>999 cc</td>\n",
       "      <td>Automatic</td>\n",
       "      <td>2022.0</td>\n",
       "    </tr>\n",
       "  </tbody>\n",
       "</table>\n",
       "</div>"
      ],
      "text/plain": [
       "  Registration Year     Insurance Validity Fuel Type    Seats  Kms Driven  \\\n",
       "0              2022  Third Party insurance    Petrol  5 Seats  20,000 Kms   \n",
       "\n",
       "    RTO    Ownership Engine Displacement Transmission  Year of Manufacture  \n",
       "0  TS04  First Owner              999 cc    Automatic               2022.0  "
      ]
     },
     "execution_count": 17,
     "metadata": {},
     "output_type": "execute_result"
    }
   ],
   "source": [
    "# Unpacking the column new_car_overview data which is inside 'top'\n",
    "\n",
    "def process_row(row):\n",
    "    row_data = {item['key']: item['value'] for item in row['top']}\n",
    "    return row_data\n",
    "\n",
    "overview_unpacked = merged_df['new_car_overview'].apply(lambda row: pd.Series(process_row(row)))\n",
    "\n",
    "overview_unpacked.head(1)"
   ]
  },
  {
   "cell_type": "code",
   "execution_count": 18,
   "id": "b03767fc-e31a-40d4-9a9d-1b8c386b7f50",
   "metadata": {},
   "outputs": [
    {
     "data": {
      "text/plain": [
       "{'heading': 'Features',\n",
       " 'top': [{'value': 'Power Steering'},\n",
       "  {'value': 'Power Windows Front'},\n",
       "  {'value': 'Air Conditioner'},\n",
       "  {'value': 'Heater'},\n",
       "  {'value': 'Adjustable Head Lights'},\n",
       "  {'value': 'Fog Lights Front'},\n",
       "  {'value': 'Anti Lock Braking System'},\n",
       "  {'value': 'Centeral Locking'},\n",
       "  {'value': 'Radio'}],\n",
       " 'data': [{'heading': 'Comfort & Convenience',\n",
       "   'subHeading': 'Comfort',\n",
       "   'list': [{'value': 'Power Steering'},\n",
       "    {'value': 'Power Windows Front'},\n",
       "    {'value': 'Power Windows Rear'},\n",
       "    {'value': 'Remote Trunk Opener'},\n",
       "    {'value': 'Low Fuel Warning Light'},\n",
       "    {'value': 'Accessory Power Outlet'},\n",
       "    {'value': 'Vanity Mirror'},\n",
       "    {'value': 'Rear Seat Headrest'},\n",
       "    {'value': 'Cup Holders Front'},\n",
       "    {'value': 'Seat Lumbar Support'},\n",
       "    {'value': 'Multifunction Steering Wheel'},\n",
       "    {'value': 'Cruise Control'},\n",
       "    {'value': 'Rear ACVents'},\n",
       "    {'value': 'Glove Box Cooling'},\n",
       "    {'value': 'Voice Control'},\n",
       "    {'value': 'Gear Shift Indicator'},\n",
       "    {'value': 'Lane Change Indicator'},\n",
       "    {'value': 'Adjustable Headrest'}]},\n",
       "  {'heading': 'Interior',\n",
       "   'subHeading': 'Interior',\n",
       "   'list': [{'value': 'Air Conditioner'},\n",
       "    {'value': 'Heater'},\n",
       "    {'value': 'Adjustable Steering'},\n",
       "    {'value': 'Digital Odometer'},\n",
       "    {'value': 'Tachometer'},\n",
       "    {'value': 'Electronic Multi Tripmeter'},\n",
       "    {'value': 'Fabric Upholstery'},\n",
       "    {'value': 'Leather Steering Wheel'},\n",
       "    {'value': 'Glove Compartment'},\n",
       "    {'value': 'Digital Clock'},\n",
       "    {'value': 'Height Adjustable Driver Seat'},\n",
       "    {'value': 'Dual Tone Dashboard'},\n",
       "    {'value': 'Leather Wrap Gear Shift Selector'}]},\n",
       "  {'heading': 'Exterior',\n",
       "   'subHeading': 'Exterior',\n",
       "   'list': [{'value': 'Adjustable Head Lights'},\n",
       "    {'value': 'Fog Lights Front'},\n",
       "    {'value': 'Fog Lights Rear'},\n",
       "    {'value': 'Power Adjustable Exterior Rear View Mirror'},\n",
       "    {'value': 'Electric Folding Rear View Mirror'},\n",
       "    {'value': 'Rain Sensing Wiper'},\n",
       "    {'value': 'Rear Window Wiper'},\n",
       "    {'value': 'Rear Window Washer'},\n",
       "    {'value': 'Rear Window Defogger'},\n",
       "    {'value': 'Alloy Wheels'},\n",
       "    {'value': 'Power Antenna'},\n",
       "    {'value': 'Integrated Antenna'},\n",
       "    {'value': 'Outside Rear View Mirror Turn Indicators'},\n",
       "    {'value': 'Cornering Headlamps'},\n",
       "    {'value': 'Halogen Headlamps'}]},\n",
       "  {'heading': 'Safety',\n",
       "   'subHeading': 'Safety',\n",
       "   'list': [{'value': 'Anti Lock Braking System'},\n",
       "    {'value': 'Centeral Locking'},\n",
       "    {'value': 'Power Door Locks'},\n",
       "    {'value': 'Child Safety Locks'},\n",
       "    {'value': 'Driver Air Bag'},\n",
       "    {'value': 'Passenger Air Bag'},\n",
       "    {'value': 'Day Night Rear View Mirror'},\n",
       "    {'value': 'Passenger Side Rear View Mirror'},\n",
       "    {'value': 'Halogen Headlamps'},\n",
       "    {'value': 'Rear Seat Belts'},\n",
       "    {'value': 'Seat Belt Warning'},\n",
       "    {'value': 'Side Impact Beams'},\n",
       "    {'value': 'Front Impact Beams'},\n",
       "    {'value': 'Vehicle Stability Control System'},\n",
       "    {'value': 'Adjustable Seats'},\n",
       "    {'value': 'Keyless Entry'},\n",
       "    {'value': 'Centrally Mounted Fuel Tank'},\n",
       "    {'value': 'Engine Immobilizer'},\n",
       "    {'value': 'Engine Check Warning'},\n",
       "    {'value': 'Crash Sensor'},\n",
       "    {'value': 'Ebd'},\n",
       "    {'value': 'Anti Theft Device'},\n",
       "    {'value': 'Anti Pinch Power Windows'},\n",
       "    {'value': 'Speed Sensing Auto Door Lock'},\n",
       "    {'value': 'Isofix Child Seat Mounts'},\n",
       "    {'value': 'Pretensioners And Force Limiter Seatbelts'},\n",
       "    {'value': 'Hill Assist'},\n",
       "    {'value': 'Impact Sensing Auto Door Lock'},\n",
       "    {'value': 'No Of Airbags'},\n",
       "    {'value': 'Eletronic Stability Control'}]},\n",
       "  {'heading': 'Entertainment & Communication',\n",
       "   'subHeading': 'Entertainment',\n",
       "   'list': [{'value': 'Radio'},\n",
       "    {'value': 'Speakers Front'},\n",
       "    {'value': 'Speakers Rear'},\n",
       "    {'value': 'Usb Auxiliary Input'},\n",
       "    {'value': 'Bluetooth'},\n",
       "    {'value': 'Touch Screen'},\n",
       "    {'value': 'Number Of Speaker'},\n",
       "    {'value': 'Apple Car Play'},\n",
       "    {'value': 'Android Auto'},\n",
       "    {'value': 'Mirror Link'}]}],\n",
       " 'commonIcon': 'https://stimg.cardekho.com/pwa/img/vdpN/tickG.svg'}"
      ]
     },
     "execution_count": 18,
     "metadata": {},
     "output_type": "execute_result"
    }
   ],
   "source": [
    "merged_df['new_car_feature'][0]\n",
    "\n",
    "# from this column we want to extract data frop 'top' and 'data' "
   ]
  },
  {
   "cell_type": "code",
   "execution_count": 19,
   "id": "08487093-ebba-4183-b28b-94732cf451e3",
   "metadata": {},
   "outputs": [
    {
     "data": {
      "text/html": [
       "<div>\n",
       "<style scoped>\n",
       "    .dataframe tbody tr th:only-of-type {\n",
       "        vertical-align: middle;\n",
       "    }\n",
       "\n",
       "    .dataframe tbody tr th {\n",
       "        vertical-align: top;\n",
       "    }\n",
       "\n",
       "    .dataframe thead th {\n",
       "        text-align: right;\n",
       "    }\n",
       "</style>\n",
       "<table border=\"1\" class=\"dataframe\">\n",
       "  <thead>\n",
       "    <tr style=\"text-align: right;\">\n",
       "      <th></th>\n",
       "      <th>Power Steering</th>\n",
       "      <th>Power Windows Front</th>\n",
       "      <th>Air Conditioner</th>\n",
       "      <th>Heater</th>\n",
       "      <th>Adjustable Head Lights</th>\n",
       "      <th>Fog Lights Front</th>\n",
       "      <th>Anti Lock Braking System</th>\n",
       "      <th>Centeral Locking</th>\n",
       "      <th>Radio</th>\n",
       "      <th>Power Windows Rear</th>\n",
       "      <th>...</th>\n",
       "      <th>Roof Carrier</th>\n",
       "      <th>Blind Spot Monitor</th>\n",
       "      <th>Compass</th>\n",
       "      <th>Removable Convertible Top</th>\n",
       "      <th>Active Noise Cancellation</th>\n",
       "      <th>Heads Up Display</th>\n",
       "      <th>Cassette Player</th>\n",
       "      <th>Power Folding3rd Row Seat</th>\n",
       "      <th>Headlamp Washers</th>\n",
       "      <th>Smart Key Band</th>\n",
       "    </tr>\n",
       "  </thead>\n",
       "  <tbody>\n",
       "    <tr>\n",
       "      <th>0</th>\n",
       "      <td>True</td>\n",
       "      <td>True</td>\n",
       "      <td>True</td>\n",
       "      <td>True</td>\n",
       "      <td>True</td>\n",
       "      <td>True</td>\n",
       "      <td>True</td>\n",
       "      <td>True</td>\n",
       "      <td>True</td>\n",
       "      <td>True</td>\n",
       "      <td>...</td>\n",
       "      <td>NaN</td>\n",
       "      <td>NaN</td>\n",
       "      <td>NaN</td>\n",
       "      <td>NaN</td>\n",
       "      <td>NaN</td>\n",
       "      <td>NaN</td>\n",
       "      <td>NaN</td>\n",
       "      <td>NaN</td>\n",
       "      <td>NaN</td>\n",
       "      <td>NaN</td>\n",
       "    </tr>\n",
       "  </tbody>\n",
       "</table>\n",
       "<p>1 rows × 173 columns</p>\n",
       "</div>"
      ],
      "text/plain": [
       "  Power Steering Power Windows Front Air Conditioner Heater  \\\n",
       "0           True                True            True   True   \n",
       "\n",
       "  Adjustable Head Lights Fog Lights Front Anti Lock Braking System  \\\n",
       "0                   True             True                     True   \n",
       "\n",
       "  Centeral Locking Radio Power Windows Rear  ... Roof Carrier  \\\n",
       "0             True  True               True  ...          NaN   \n",
       "\n",
       "  Blind Spot Monitor Compass Removable Convertible Top  \\\n",
       "0                NaN     NaN                       NaN   \n",
       "\n",
       "  Active Noise Cancellation Heads Up Display Cassette Player  \\\n",
       "0                       NaN              NaN             NaN   \n",
       "\n",
       "  Power Folding3rd Row Seat Headlamp Washers Smart Key Band  \n",
       "0                       NaN              NaN            NaN  \n",
       "\n",
       "[1 rows x 173 columns]"
      ]
     },
     "execution_count": 19,
     "metadata": {},
     "output_type": "execute_result"
    }
   ],
   "source": [
    "# Unpacking the dictionary column new_car_features\n",
    "\n",
    "def process_features(row):\n",
    "    features = {}\n",
    "\n",
    "    # Flatten 'top' values\n",
    "    for item in row['top']:\n",
    "        features[item['value']] = True\n",
    "    \n",
    "    # Flatten 'data' values\n",
    "    for data_item in row.get('data', []):\n",
    "        for sub_item in data_item.get('list', []):\n",
    "            features[sub_item['value']] = True\n",
    "    \n",
    "    return features\n",
    "\n",
    "features_unpacked = merged_df['new_car_feature'].apply(lambda row: pd.Series(process_features(row)))\n",
    "\n",
    "features_unpacked.head(1)"
   ]
  },
  {
   "cell_type": "code",
   "execution_count": 20,
   "id": "c5f9e471-f352-496f-8347-ff78f3e8ce66",
   "metadata": {},
   "outputs": [
    {
     "data": {
      "text/plain": [
       "{'heading': 'Specifications',\n",
       " 'top': [{'key': 'Mileage', 'value': '16.47 kmpl'},\n",
       "  {'key': 'Engine', 'value': '999 CC'},\n",
       "  {'key': 'Max Power', 'value': '108.62bhp'},\n",
       "  {'key': 'Torque', 'value': '175nm'},\n",
       "  {'key': 'Wheel Size', 'value': 'R16'},\n",
       "  {'key': 'Seats', 'value': '5'}],\n",
       " 'data': [{'heading': 'Engine and Transmission',\n",
       "   'subHeading': 'Engine',\n",
       "   'list': [{'key': 'Color', 'value': 'Others'},\n",
       "    {'key': 'Engine Type', 'value': '1.0L TSI Petrol'},\n",
       "    {'key': 'Displacement', 'value': '999'},\n",
       "    {'key': 'Max Power', 'value': '108.62bhp@5000-5500rpm'},\n",
       "    {'key': 'Max Torque', 'value': '175nm@1750-4000rpm'},\n",
       "    {'key': 'No of Cylinder', 'value': 3},\n",
       "    {'key': 'Values per Cylinder', 'value': 4},\n",
       "    {'key': 'Value Configuration', 'value': 'DOHC'},\n",
       "    {'key': 'Fuel Suppy System', 'value': 'TSI'},\n",
       "    {'key': 'BoreX Stroke', 'value': '74.5x76.4 mm'},\n",
       "    {'key': 'Compression Ratio', 'value': '10.5:1'},\n",
       "    {'key': 'Turbo Charger', 'value': 'Yes'},\n",
       "    {'key': 'Super Charger', 'value': 'No'}]},\n",
       "  {'heading': 'Dimensions & Capacity',\n",
       "   'subHeading': 'Dimensions',\n",
       "   'list': [{'key': 'Length', 'value': '3971mm'},\n",
       "    {'key': 'Width', 'value': '1682mm'},\n",
       "    {'key': 'Height', 'value': '1469mm'},\n",
       "    {'key': 'Wheel Base', 'value': '2470mm'},\n",
       "    {'key': 'Front Tread', 'value': '1457mm'},\n",
       "    {'key': 'Rear Tread', 'value': '1500mm'},\n",
       "    {'key': 'Kerb Weight', 'value': '1106'},\n",
       "    {'key': 'Gross Weight', 'value': '1570'}]},\n",
       "  {'heading': 'Miscellaneous',\n",
       "   'subHeading': 'Miscellaneous',\n",
       "   'list': [{'key': 'Gear Box', 'value': '6 Speed'},\n",
       "    {'key': 'Drive Type', 'value': 'FWD'},\n",
       "    {'key': 'Seating Capacity', 'value': '5'},\n",
       "    {'key': 'Steering Type', 'value': 'Electronic'},\n",
       "    {'key': 'Turning Radius', 'value': '4.9'},\n",
       "    {'key': 'Front Brake Type', 'value': 'Disc'},\n",
       "    {'key': 'Rear Brake Type', 'value': 'Drum'},\n",
       "    {'key': 'Tyre Type', 'value': 'Tubeless,Radial'},\n",
       "    {'key': 'Alloy Wheel Size', 'value': 'R16'},\n",
       "    {'key': 'No Door Numbers', 'value': '5'},\n",
       "    {'key': 'Cargo Volumn', 'value': '280'}]}],\n",
       " 'commonIcon': ''}"
      ]
     },
     "execution_count": 20,
     "metadata": {},
     "output_type": "execute_result"
    }
   ],
   "source": [
    "merged_df['new_car_specs'][0]\n",
    "# we want to extract data from 'top', and 'list'"
   ]
  },
  {
   "cell_type": "code",
   "execution_count": 21,
   "id": "153bed7c-d3b0-4bfe-acf3-812a1946e43d",
   "metadata": {},
   "outputs": [
    {
     "data": {
      "text/html": [
       "<div>\n",
       "<style scoped>\n",
       "    .dataframe tbody tr th:only-of-type {\n",
       "        vertical-align: middle;\n",
       "    }\n",
       "\n",
       "    .dataframe tbody tr th {\n",
       "        vertical-align: top;\n",
       "    }\n",
       "\n",
       "    .dataframe thead th {\n",
       "        text-align: right;\n",
       "    }\n",
       "</style>\n",
       "<table border=\"1\" class=\"dataframe\">\n",
       "  <thead>\n",
       "    <tr style=\"text-align: right;\">\n",
       "      <th></th>\n",
       "      <th>Mileage</th>\n",
       "      <th>Engine</th>\n",
       "      <th>Max Power</th>\n",
       "      <th>Torque</th>\n",
       "      <th>Wheel Size</th>\n",
       "      <th>Seats</th>\n",
       "      <th>Color</th>\n",
       "      <th>Engine Type</th>\n",
       "      <th>Displacement</th>\n",
       "      <th>Max Torque</th>\n",
       "      <th>...</th>\n",
       "      <th>Turning Radius</th>\n",
       "      <th>Front Brake Type</th>\n",
       "      <th>Rear Brake Type</th>\n",
       "      <th>Tyre Type</th>\n",
       "      <th>Alloy Wheel Size</th>\n",
       "      <th>No Door Numbers</th>\n",
       "      <th>Cargo Volumn</th>\n",
       "      <th>Top Speed</th>\n",
       "      <th>Acceleration</th>\n",
       "      <th>Ground Clearance Unladen</th>\n",
       "    </tr>\n",
       "  </thead>\n",
       "  <tbody>\n",
       "    <tr>\n",
       "      <th>0</th>\n",
       "      <td>16.47 kmpl</td>\n",
       "      <td>999 CC</td>\n",
       "      <td>108.62bhp@5000-5500rpm</td>\n",
       "      <td>175nm</td>\n",
       "      <td>R16</td>\n",
       "      <td>5</td>\n",
       "      <td>Others</td>\n",
       "      <td>1.0L TSI Petrol</td>\n",
       "      <td>999</td>\n",
       "      <td>175nm@1750-4000rpm</td>\n",
       "      <td>...</td>\n",
       "      <td>4.9</td>\n",
       "      <td>Disc</td>\n",
       "      <td>Drum</td>\n",
       "      <td>Tubeless,Radial</td>\n",
       "      <td>R16</td>\n",
       "      <td>5</td>\n",
       "      <td>280</td>\n",
       "      <td>NaN</td>\n",
       "      <td>NaN</td>\n",
       "      <td>NaN</td>\n",
       "    </tr>\n",
       "  </tbody>\n",
       "</table>\n",
       "<p>1 rows × 40 columns</p>\n",
       "</div>"
      ],
      "text/plain": [
       "      Mileage  Engine               Max Power Torque Wheel Size Seats   Color  \\\n",
       "0  16.47 kmpl  999 CC  108.62bhp@5000-5500rpm  175nm        R16     5  Others   \n",
       "\n",
       "       Engine Type Displacement          Max Torque  ...  Turning Radius  \\\n",
       "0  1.0L TSI Petrol          999  175nm@1750-4000rpm  ...             4.9   \n",
       "\n",
       "   Front Brake Type Rear Brake Type        Tyre Type Alloy Wheel Size  \\\n",
       "0              Disc            Drum  Tubeless,Radial              R16   \n",
       "\n",
       "  No Door Numbers Cargo Volumn Top Speed Acceleration Ground Clearance Unladen  \n",
       "0               5          280       NaN          NaN                      NaN  \n",
       "\n",
       "[1 rows x 40 columns]"
      ]
     },
     "execution_count": 21,
     "metadata": {},
     "output_type": "execute_result"
    }
   ],
   "source": [
    "# Unpacking the dictionary column new_car_specs\n",
    "\n",
    "def process_specifications(row):\n",
    "    specs = {}\n",
    "\n",
    "    # Flatten 'top' values\n",
    "    for item in row['top']:\n",
    "        specs[item['key']] = item['value']\n",
    "    \n",
    "    # Flatten 'data' values\n",
    "    for data_item in row.get('data', []):\n",
    "        for sub_item in data_item.get('list', []):\n",
    "            specs[sub_item['key']] = sub_item['value']\n",
    "    \n",
    "    return specs\n",
    "\n",
    "specs_unpacked = merged_df['new_car_specs'].apply(lambda row: pd.Series(process_specifications(row)))\n",
    "\n",
    "specs_unpacked.head(1)\n"
   ]
  },
  {
   "cell_type": "code",
   "execution_count": 22,
   "id": "0da8a0b5-70a9-4612-b115-b839ce1ef7cf",
   "metadata": {},
   "outputs": [],
   "source": [
    "# Now we combine all the unpacked dfs \n",
    "\n",
    "combined_unpacked_df = pd.concat([details_unpacked,overview_unpacked,features_unpacked,specs_unpacked,merged_df['Location']],axis=1)\n"
   ]
  },
  {
   "cell_type": "code",
   "execution_count": 23,
   "id": "093ff6c2-967e-437f-8729-79f241f83006",
   "metadata": {},
   "outputs": [],
   "source": [
    "# saving it into excel file\n",
    "combined_unpacked_df.to_excel('combined_unpacked_df_full.xlsx',index=False)"
   ]
  },
  {
   "cell_type": "code",
   "execution_count": null,
   "id": "ff87bb75-e826-41e5-9a71-9c65bc676231",
   "metadata": {},
   "outputs": [],
   "source": []
  },
  {
   "cell_type": "markdown",
   "id": "d907f1e3-13a4-4f41-8bfc-9ded9dae0619",
   "metadata": {},
   "source": [
    "# 2. Data Preprocessing"
   ]
  },
  {
   "cell_type": "code",
   "execution_count": 160,
   "id": "b21a7739-6b60-4b76-8397-b62d1aa5bfb9",
   "metadata": {},
   "outputs": [],
   "source": [
    "df = pd.read_excel('combined_unpacked_df_full.xlsx')"
   ]
  },
  {
   "cell_type": "code",
   "execution_count": 161,
   "id": "4aa17117-fc42-47a4-9cb2-a5652eb409f8",
   "metadata": {},
   "outputs": [
    {
     "data": {
      "text/html": [
       "<div>\n",
       "<style scoped>\n",
       "    .dataframe tbody tr th:only-of-type {\n",
       "        vertical-align: middle;\n",
       "    }\n",
       "\n",
       "    .dataframe tbody tr th {\n",
       "        vertical-align: top;\n",
       "    }\n",
       "\n",
       "    .dataframe thead th {\n",
       "        text-align: right;\n",
       "    }\n",
       "</style>\n",
       "<table border=\"1\" class=\"dataframe\">\n",
       "  <thead>\n",
       "    <tr style=\"text-align: right;\">\n",
       "      <th></th>\n",
       "      <th>it</th>\n",
       "      <th>ft</th>\n",
       "      <th>bt</th>\n",
       "      <th>km</th>\n",
       "      <th>transmission</th>\n",
       "      <th>ownerNo</th>\n",
       "      <th>owner</th>\n",
       "      <th>oem</th>\n",
       "      <th>model</th>\n",
       "      <th>modelYear</th>\n",
       "      <th>...</th>\n",
       "      <th>Front Brake Type</th>\n",
       "      <th>Rear Brake Type</th>\n",
       "      <th>Tyre Type</th>\n",
       "      <th>Alloy Wheel Size</th>\n",
       "      <th>No Door Numbers</th>\n",
       "      <th>Cargo Volumn</th>\n",
       "      <th>Top Speed</th>\n",
       "      <th>Acceleration</th>\n",
       "      <th>Ground Clearance Unladen</th>\n",
       "      <th>Location</th>\n",
       "    </tr>\n",
       "  </thead>\n",
       "  <tbody>\n",
       "    <tr>\n",
       "      <th>0</th>\n",
       "      <td>0</td>\n",
       "      <td>Petrol</td>\n",
       "      <td>Hatchback</td>\n",
       "      <td>20,000</td>\n",
       "      <td>Automatic</td>\n",
       "      <td>1</td>\n",
       "      <td>1st Owner</td>\n",
       "      <td>Volkswagen</td>\n",
       "      <td>Volkswagen Polo</td>\n",
       "      <td>2022</td>\n",
       "      <td>...</td>\n",
       "      <td>Disc</td>\n",
       "      <td>Drum</td>\n",
       "      <td>Tubeless,Radial</td>\n",
       "      <td>R16</td>\n",
       "      <td>5.0</td>\n",
       "      <td>280</td>\n",
       "      <td>NaN</td>\n",
       "      <td>NaN</td>\n",
       "      <td>NaN</td>\n",
       "      <td>hyderabad</td>\n",
       "    </tr>\n",
       "  </tbody>\n",
       "</table>\n",
       "<p>1 rows × 243 columns</p>\n",
       "</div>"
      ],
      "text/plain": [
       "   it      ft         bt      km transmission  ownerNo      owner         oem  \\\n",
       "0   0  Petrol  Hatchback  20,000    Automatic        1  1st Owner  Volkswagen   \n",
       "\n",
       "             model  modelYear  ...  Front Brake Type Rear Brake Type  \\\n",
       "0  Volkswagen Polo       2022  ...              Disc            Drum   \n",
       "\n",
       "         Tyre Type Alloy Wheel Size  No Door Numbers  Cargo Volumn Top Speed  \\\n",
       "0  Tubeless,Radial              R16              5.0           280       NaN   \n",
       "\n",
       "  Acceleration Ground Clearance Unladen   Location  \n",
       "0          NaN                      NaN  hyderabad  \n",
       "\n",
       "[1 rows x 243 columns]"
      ]
     },
     "execution_count": 161,
     "metadata": {},
     "output_type": "execute_result"
    }
   ],
   "source": [
    "df.head(1)"
   ]
  },
  {
   "cell_type": "code",
   "execution_count": 162,
   "id": "1783bc02-5deb-441c-85e1-92ffc194abf6",
   "metadata": {},
   "outputs": [
    {
     "name": "stdout",
     "output_type": "stream",
     "text": [
      "it                    1\n",
      "ft                    5\n",
      "bt                   10\n",
      "km                 4090\n",
      "transmission          2\n",
      "                   ... \n",
      "No Door Numbers       5\n",
      "Cargo Volumn        321\n",
      "Top Speed           305\n",
      "Acceleration        332\n",
      "Location              6\n",
      "Length: 122, dtype: int64\n",
      "85\n",
      "0\n"
     ]
    }
   ],
   "source": [
    "# Remove columns where more than 50% of the data is missing.\n",
    "\n",
    "threshold = len(df) * 0.5\n",
    "df.dropna(axis=1, thresh=threshold,inplace=True)\n",
    "\n",
    "print(df.nunique())\n",
    "# Discard columns that contain only a single unique value.\n",
    "df = df.loc[:, df.nunique() > 1]\n",
    "\n",
    "# Checking for duplicate rows and drop those rows \n",
    "print(df.duplicated().sum())\n",
    "df.drop_duplicates(keep='first',inplace=True)   \n",
    "print(df.duplicated().sum())"
   ]
  },
  {
   "cell_type": "code",
   "execution_count": 163,
   "id": "eea85648-2d05-4643-aea3-c537ca0315b0",
   "metadata": {},
   "outputs": [
    {
     "name": "stdout",
     "output_type": "stream",
     "text": [
      "['ft', 'bt', 'km', 'transmission', 'ownerNo', 'oem', 'model', 'modelYear', 'variantName', 'price', 'Insurance Validity', 'RTO', 'Mileage', 'Color', 'Engine Type', 'Displacement', 'No of Cylinder', 'Fuel Suppy System', 'Turbo Charger', 'Super Charger', 'Gear Box', 'Drive Type', 'Seating Capacity', 'Steering Type', 'Front Brake Type', 'Rear Brake Type', 'Tyre Type', 'No Door Numbers', 'Location']\n"
     ]
    },
    {
     "data": {
      "text/html": [
       "<div>\n",
       "<style scoped>\n",
       "    .dataframe tbody tr th:only-of-type {\n",
       "        vertical-align: middle;\n",
       "    }\n",
       "\n",
       "    .dataframe tbody tr th {\n",
       "        vertical-align: top;\n",
       "    }\n",
       "\n",
       "    .dataframe thead th {\n",
       "        text-align: right;\n",
       "    }\n",
       "</style>\n",
       "<table border=\"1\" class=\"dataframe\">\n",
       "  <thead>\n",
       "    <tr style=\"text-align: right;\">\n",
       "      <th></th>\n",
       "      <th>ft</th>\n",
       "      <th>bt</th>\n",
       "      <th>km</th>\n",
       "      <th>transmission</th>\n",
       "      <th>ownerNo</th>\n",
       "      <th>oem</th>\n",
       "      <th>model</th>\n",
       "      <th>modelYear</th>\n",
       "      <th>variantName</th>\n",
       "      <th>price</th>\n",
       "      <th>...</th>\n",
       "      <th>Super Charger</th>\n",
       "      <th>Gear Box</th>\n",
       "      <th>Drive Type</th>\n",
       "      <th>Seating Capacity</th>\n",
       "      <th>Steering Type</th>\n",
       "      <th>Front Brake Type</th>\n",
       "      <th>Rear Brake Type</th>\n",
       "      <th>Tyre Type</th>\n",
       "      <th>No Door Numbers</th>\n",
       "      <th>Location</th>\n",
       "    </tr>\n",
       "  </thead>\n",
       "  <tbody>\n",
       "    <tr>\n",
       "      <th>0</th>\n",
       "      <td>Petrol</td>\n",
       "      <td>Hatchback</td>\n",
       "      <td>20,000</td>\n",
       "      <td>Automatic</td>\n",
       "      <td>1</td>\n",
       "      <td>Volkswagen</td>\n",
       "      <td>Volkswagen Polo</td>\n",
       "      <td>2022</td>\n",
       "      <td>1.0 TSI Highline Plus AT</td>\n",
       "      <td>₹ 10.44 Lakh</td>\n",
       "      <td>...</td>\n",
       "      <td>No</td>\n",
       "      <td>6 Speed</td>\n",
       "      <td>FWD</td>\n",
       "      <td>5.0</td>\n",
       "      <td>Electronic</td>\n",
       "      <td>Disc</td>\n",
       "      <td>Drum</td>\n",
       "      <td>Tubeless,Radial</td>\n",
       "      <td>5.0</td>\n",
       "      <td>hyderabad</td>\n",
       "    </tr>\n",
       "  </tbody>\n",
       "</table>\n",
       "<p>1 rows × 29 columns</p>\n",
       "</div>"
      ],
      "text/plain": [
       "       ft         bt      km transmission  ownerNo         oem  \\\n",
       "0  Petrol  Hatchback  20,000    Automatic        1  Volkswagen   \n",
       "\n",
       "             model  modelYear               variantName         price  ...  \\\n",
       "0  Volkswagen Polo       2022  1.0 TSI Highline Plus AT  ₹ 10.44 Lakh  ...   \n",
       "\n",
       "  Super Charger Gear Box Drive Type Seating Capacity Steering Type  \\\n",
       "0            No  6 Speed        FWD              5.0    Electronic   \n",
       "\n",
       "   Front Brake Type  Rear Brake Type        Tyre Type No Door Numbers  \\\n",
       "0              Disc             Drum  Tubeless,Radial             5.0   \n",
       "\n",
       "    Location  \n",
       "0  hyderabad  \n",
       "\n",
       "[1 rows x 29 columns]"
      ]
     },
     "execution_count": 163,
     "metadata": {},
     "output_type": "execute_result"
    }
   ],
   "source": [
    "# Remove columns that are either duplicates, contain the same data, or are unnecessary, even if they have different names.\n",
    "df.drop(['owner','centralVariantId','Fuel Type','Registration Year','Year of Manufacture','Engine Displacement','Transmission','Max Power','Torque','Wheel Size','Seats.1','Engine','Torque','Length','Width','Height','Wheel Base','Front Tread','Rear Tread','Kerb Weight','Values per Cylinder','Value Configuration','Seats','Turning Radius','Top Speed','Acceleration','Alloy Wheel Size','Kms Driven','Ownership','Max Torque','Cargo Volumn'],axis=1,inplace=True)\n",
    "\n",
    "print(df.columns.tolist())\n",
    "df.head(1)"
   ]
  },
  {
   "cell_type": "markdown",
   "id": "68cd8393-5ecb-42bb-b89a-89da73e8be4c",
   "metadata": {},
   "source": [
    "### Handling string columns that are numerical"
   ]
  },
  {
   "cell_type": "code",
   "execution_count": 164,
   "id": "89be25b9-86d8-4981-abba-7a2eb4305114",
   "metadata": {},
   "outputs": [
    {
     "data": {
      "text/plain": [
       "ft                     object\n",
       "bt                     object\n",
       "km                     object\n",
       "transmission           object\n",
       "ownerNo                 int64\n",
       "oem                    object\n",
       "model                  object\n",
       "modelYear               int64\n",
       "variantName            object\n",
       "price                  object\n",
       "Insurance Validity     object\n",
       "RTO                    object\n",
       "Mileage                object\n",
       "Color                  object\n",
       "Engine Type            object\n",
       "Displacement          float64\n",
       "No of Cylinder        float64\n",
       "Fuel Suppy System      object\n",
       "Turbo Charger          object\n",
       "Super Charger          object\n",
       "Gear Box               object\n",
       "Drive Type             object\n",
       "Seating Capacity      float64\n",
       "Steering Type          object\n",
       "Front Brake Type       object\n",
       "Rear Brake Type        object\n",
       "Tyre Type              object\n",
       "No Door Numbers       float64\n",
       "Location               object\n",
       "dtype: object"
      ]
     },
     "execution_count": 164,
     "metadata": {},
     "output_type": "execute_result"
    }
   ],
   "source": [
    "df.dtypes"
   ]
  },
  {
   "cell_type": "markdown",
   "id": "aac61fac-118b-4097-b584-7e5c6003796f",
   "metadata": {},
   "source": [
    "### price "
   ]
  },
  {
   "cell_type": "code",
   "execution_count": 165,
   "id": "13ca4f6e-e01d-4337-b671-7d93675af7e9",
   "metadata": {},
   "outputs": [],
   "source": [
    "# function to convert price from string to numerical\n",
    "def convert_price(price_str):\n",
    "    # Remove the currency symbol and commas\n",
    "    price_str = re.sub(r'[₹,]', '', price_str).strip()\n",
    "    \n",
    "    # Handle different units\n",
    "    if 'Crore' in price_str:\n",
    "        price_str = price_str.replace('Crore', '').strip()\n",
    "        return float(price_str) * 10000000  # Convert to the base unit (e.g., rupees)\n",
    "    elif 'Lakh' in price_str:\n",
    "        price_str = price_str.replace('Lakh', '').strip()\n",
    "        return float(price_str) * 100000  # Convert to the base unit (e.g., rupees)\n",
    "    elif 'Thousand' in price_str:\n",
    "        price_str = price_str.replace('Thousand', '').strip()\n",
    "        return float(price_str) * 1000  # Convert to the base unit (e.g., rupees)\n",
    "    else:\n",
    "        return float(price_str)  # Assume it's already in the base unit (e.g., rupees)\n",
    "\n",
    "# Apply the conversion function to the 'price' column\n",
    "df['price'] = df['price'].apply(convert_price)\n"
   ]
  },
  {
   "cell_type": "markdown",
   "id": "74319357-2138-4127-bfcf-61c1f0baeb1a",
   "metadata": {},
   "source": [
    "### km\n"
   ]
  },
  {
   "cell_type": "code",
   "execution_count": 166,
   "id": "bd3f2dc3-1a12-4966-9481-450920460505",
   "metadata": {},
   "outputs": [
    {
     "name": "stdout",
     "output_type": "stream",
     "text": [
      "0\n"
     ]
    },
    {
     "data": {
      "text/html": [
       "<div>\n",
       "<style scoped>\n",
       "    .dataframe tbody tr th:only-of-type {\n",
       "        vertical-align: middle;\n",
       "    }\n",
       "\n",
       "    .dataframe tbody tr th {\n",
       "        vertical-align: top;\n",
       "    }\n",
       "\n",
       "    .dataframe thead th {\n",
       "        text-align: right;\n",
       "    }\n",
       "</style>\n",
       "<table border=\"1\" class=\"dataframe\">\n",
       "  <thead>\n",
       "    <tr style=\"text-align: right;\">\n",
       "      <th></th>\n",
       "      <th>ft</th>\n",
       "      <th>bt</th>\n",
       "      <th>km</th>\n",
       "      <th>transmission</th>\n",
       "      <th>ownerNo</th>\n",
       "      <th>oem</th>\n",
       "      <th>model</th>\n",
       "      <th>modelYear</th>\n",
       "      <th>variantName</th>\n",
       "      <th>price</th>\n",
       "      <th>...</th>\n",
       "      <th>Super Charger</th>\n",
       "      <th>Gear Box</th>\n",
       "      <th>Drive Type</th>\n",
       "      <th>Seating Capacity</th>\n",
       "      <th>Steering Type</th>\n",
       "      <th>Front Brake Type</th>\n",
       "      <th>Rear Brake Type</th>\n",
       "      <th>Tyre Type</th>\n",
       "      <th>No Door Numbers</th>\n",
       "      <th>Location</th>\n",
       "    </tr>\n",
       "  </thead>\n",
       "  <tbody>\n",
       "    <tr>\n",
       "      <th>0</th>\n",
       "      <td>Petrol</td>\n",
       "      <td>Hatchback</td>\n",
       "      <td>20000.0</td>\n",
       "      <td>Automatic</td>\n",
       "      <td>1</td>\n",
       "      <td>Volkswagen</td>\n",
       "      <td>Volkswagen Polo</td>\n",
       "      <td>2022</td>\n",
       "      <td>1.0 TSI Highline Plus AT</td>\n",
       "      <td>1044000.0</td>\n",
       "      <td>...</td>\n",
       "      <td>No</td>\n",
       "      <td>6 Speed</td>\n",
       "      <td>FWD</td>\n",
       "      <td>5.0</td>\n",
       "      <td>Electronic</td>\n",
       "      <td>Disc</td>\n",
       "      <td>Drum</td>\n",
       "      <td>Tubeless,Radial</td>\n",
       "      <td>5.0</td>\n",
       "      <td>hyderabad</td>\n",
       "    </tr>\n",
       "  </tbody>\n",
       "</table>\n",
       "<p>1 rows × 29 columns</p>\n",
       "</div>"
      ],
      "text/plain": [
       "       ft         bt       km transmission  ownerNo         oem  \\\n",
       "0  Petrol  Hatchback  20000.0    Automatic        1  Volkswagen   \n",
       "\n",
       "             model  modelYear               variantName      price  ...  \\\n",
       "0  Volkswagen Polo       2022  1.0 TSI Highline Plus AT  1044000.0  ...   \n",
       "\n",
       "  Super Charger Gear Box Drive Type Seating Capacity Steering Type  \\\n",
       "0            No  6 Speed        FWD              5.0    Electronic   \n",
       "\n",
       "   Front Brake Type  Rear Brake Type        Tyre Type No Door Numbers  \\\n",
       "0              Disc             Drum  Tubeless,Radial             5.0   \n",
       "\n",
       "    Location  \n",
       "0  hyderabad  \n",
       "\n",
       "[1 rows x 29 columns]"
      ]
     },
     "execution_count": 166,
     "metadata": {},
     "output_type": "execute_result"
    }
   ],
   "source": [
    "print(df['km'].isna().sum())\n",
    "\n",
    "def convert_km(km_str):\n",
    "    # Remove commas\n",
    "    km_str = re.sub(r',', '', km_str).strip()\n",
    "    # Convert to float\n",
    "    return float(km_str)\n",
    "\n",
    "# Apply the conversion function to the 'km' column\n",
    "df['km'] = df['km'].apply(convert_km)\n",
    "df.head(1)"
   ]
  },
  {
   "cell_type": "markdown",
   "id": "2056708b-e84f-4d48-97b7-4d65d5ee53b6",
   "metadata": {},
   "source": [
    "### Mileage\n"
   ]
  },
  {
   "cell_type": "code",
   "execution_count": 167,
   "id": "bf0f7e18-f7cf-4e29-b654-afd75a2cdb0c",
   "metadata": {},
   "outputs": [
    {
     "data": {
      "text/html": [
       "<div>\n",
       "<style scoped>\n",
       "    .dataframe tbody tr th:only-of-type {\n",
       "        vertical-align: middle;\n",
       "    }\n",
       "\n",
       "    .dataframe tbody tr th {\n",
       "        vertical-align: top;\n",
       "    }\n",
       "\n",
       "    .dataframe thead th {\n",
       "        text-align: right;\n",
       "    }\n",
       "</style>\n",
       "<table border=\"1\" class=\"dataframe\">\n",
       "  <thead>\n",
       "    <tr style=\"text-align: right;\">\n",
       "      <th></th>\n",
       "      <th>ft</th>\n",
       "      <th>bt</th>\n",
       "      <th>km</th>\n",
       "      <th>transmission</th>\n",
       "      <th>ownerNo</th>\n",
       "      <th>oem</th>\n",
       "      <th>model</th>\n",
       "      <th>modelYear</th>\n",
       "      <th>variantName</th>\n",
       "      <th>price</th>\n",
       "      <th>...</th>\n",
       "      <th>Super Charger</th>\n",
       "      <th>Gear Box</th>\n",
       "      <th>Drive Type</th>\n",
       "      <th>Seating Capacity</th>\n",
       "      <th>Steering Type</th>\n",
       "      <th>Front Brake Type</th>\n",
       "      <th>Rear Brake Type</th>\n",
       "      <th>Tyre Type</th>\n",
       "      <th>No Door Numbers</th>\n",
       "      <th>Location</th>\n",
       "    </tr>\n",
       "  </thead>\n",
       "  <tbody>\n",
       "    <tr>\n",
       "      <th>0</th>\n",
       "      <td>Petrol</td>\n",
       "      <td>Hatchback</td>\n",
       "      <td>20000.0</td>\n",
       "      <td>Automatic</td>\n",
       "      <td>1</td>\n",
       "      <td>Volkswagen</td>\n",
       "      <td>Volkswagen Polo</td>\n",
       "      <td>2022</td>\n",
       "      <td>1.0 TSI Highline Plus AT</td>\n",
       "      <td>1044000.0</td>\n",
       "      <td>...</td>\n",
       "      <td>No</td>\n",
       "      <td>6 Speed</td>\n",
       "      <td>FWD</td>\n",
       "      <td>5.0</td>\n",
       "      <td>Electronic</td>\n",
       "      <td>Disc</td>\n",
       "      <td>Drum</td>\n",
       "      <td>Tubeless,Radial</td>\n",
       "      <td>5.0</td>\n",
       "      <td>hyderabad</td>\n",
       "    </tr>\n",
       "  </tbody>\n",
       "</table>\n",
       "<p>1 rows × 29 columns</p>\n",
       "</div>"
      ],
      "text/plain": [
       "       ft         bt       km transmission  ownerNo         oem  \\\n",
       "0  Petrol  Hatchback  20000.0    Automatic        1  Volkswagen   \n",
       "\n",
       "             model  modelYear               variantName      price  ...  \\\n",
       "0  Volkswagen Polo       2022  1.0 TSI Highline Plus AT  1044000.0  ...   \n",
       "\n",
       "  Super Charger Gear Box  Drive Type Seating Capacity Steering Type  \\\n",
       "0            No  6 Speed         FWD              5.0    Electronic   \n",
       "\n",
       "   Front Brake Type  Rear Brake Type        Tyre Type No Door Numbers  \\\n",
       "0              Disc             Drum  Tubeless,Radial             5.0   \n",
       "\n",
       "    Location  \n",
       "0  hyderabad  \n",
       "\n",
       "[1 rows x 29 columns]"
      ]
     },
     "execution_count": 167,
     "metadata": {},
     "output_type": "execute_result"
    }
   ],
   "source": [
    "\n",
    "def clean_mileage(value):\n",
    "    if pd.isna(value):\n",
    "        return np.nan\n",
    "\n",
    "    value = str(value).strip().lower()\n",
    "\n",
    "    if 'km/kg' in value:\n",
    "        numeric_value = re.sub(r'[^\\d.]', '', value)\n",
    "        numeric_value = numeric_value.rstrip('.')\n",
    "        value_float = float(numeric_value)*0.74\n",
    "        return value_float\n",
    "\n",
    "    else:\n",
    "        numeric_value = re.sub(r'[^\\d.]', '', value)\n",
    "        numeric_value = numeric_value.rstrip('.')\n",
    "        value_float = float(numeric_value)\n",
    "        return value_float\n",
    "\n",
    "df['Mileage'] = df['Mileage'].apply(clean_mileage)\n",
    "df.head(1)"
   ]
  },
  {
   "cell_type": "code",
   "execution_count": 168,
   "id": "75976e87-0df6-4dfa-85fe-2441c4d933a3",
   "metadata": {},
   "outputs": [
    {
     "name": "stderr",
     "output_type": "stream",
     "text": [
      "C:\\Users\\saina\\AppData\\Local\\Temp\\ipykernel_3228\\3946802794.py:2: FutureWarning: A value is trying to be set on a copy of a DataFrame or Series through chained assignment using an inplace method.\n",
      "The behavior will change in pandas 3.0. This inplace method will never work because the intermediate object on which we are setting values always behaves as a copy.\n",
      "\n",
      "For example, when doing 'df[col].method(value, inplace=True)', try using 'df.method({col: value}, inplace=True)' or df[col] = df[col].method(value) instead, to perform the operation inplace on the original object.\n",
      "\n",
      "\n",
      "  df['Mileage'].fillna(df['Mileage'].mean().round(2), inplace=True)\n",
      "C:\\Users\\saina\\AppData\\Local\\Temp\\ipykernel_3228\\3946802794.py:3: FutureWarning: A value is trying to be set on a copy of a DataFrame or Series through chained assignment using an inplace method.\n",
      "The behavior will change in pandas 3.0. This inplace method will never work because the intermediate object on which we are setting values always behaves as a copy.\n",
      "\n",
      "For example, when doing 'df[col].method(value, inplace=True)', try using 'df.method({col: value}, inplace=True)' or df[col] = df[col].method(value) instead, to perform the operation inplace on the original object.\n",
      "\n",
      "\n",
      "  df['Displacement'].fillna(df['Displacement'].median(), inplace=True)\n",
      "C:\\Users\\saina\\AppData\\Local\\Temp\\ipykernel_3228\\3946802794.py:4: FutureWarning: A value is trying to be set on a copy of a DataFrame or Series through chained assignment using an inplace method.\n",
      "The behavior will change in pandas 3.0. This inplace method will never work because the intermediate object on which we are setting values always behaves as a copy.\n",
      "\n",
      "For example, when doing 'df[col].method(value, inplace=True)', try using 'df.method({col: value}, inplace=True)' or df[col] = df[col].method(value) instead, to perform the operation inplace on the original object.\n",
      "\n",
      "\n",
      "  df['No of Cylinder'].fillna(df['No of Cylinder'].median(), inplace=True)\n",
      "C:\\Users\\saina\\AppData\\Local\\Temp\\ipykernel_3228\\3946802794.py:5: FutureWarning: A value is trying to be set on a copy of a DataFrame or Series through chained assignment using an inplace method.\n",
      "The behavior will change in pandas 3.0. This inplace method will never work because the intermediate object on which we are setting values always behaves as a copy.\n",
      "\n",
      "For example, when doing 'df[col].method(value, inplace=True)', try using 'df.method({col: value}, inplace=True)' or df[col] = df[col].method(value) instead, to perform the operation inplace on the original object.\n",
      "\n",
      "\n",
      "  df['Seating Capacity'].fillna(df['Seating Capacity'].mode()[0], inplace=True)\n",
      "C:\\Users\\saina\\AppData\\Local\\Temp\\ipykernel_3228\\3946802794.py:6: FutureWarning: A value is trying to be set on a copy of a DataFrame or Series through chained assignment using an inplace method.\n",
      "The behavior will change in pandas 3.0. This inplace method will never work because the intermediate object on which we are setting values always behaves as a copy.\n",
      "\n",
      "For example, when doing 'df[col].method(value, inplace=True)', try using 'df.method({col: value}, inplace=True)' or df[col] = df[col].method(value) instead, to perform the operation inplace on the original object.\n",
      "\n",
      "\n",
      "  df['No Door Numbers'].fillna(df['Seating Capacity'].mode()[0], inplace=True)\n"
     ]
    }
   ],
   "source": [
    "# filling null values in numerical columns with mean, median or mode \n",
    "df['Mileage'].fillna(df['Mileage'].mean().round(2), inplace=True)\n",
    "df['Displacement'].fillna(df['Displacement'].median(), inplace=True)\n",
    "df['No of Cylinder'].fillna(df['No of Cylinder'].median(), inplace=True)\n",
    "df['Seating Capacity'].fillna(df['Seating Capacity'].mode()[0], inplace=True)\n",
    "df['No Door Numbers'].fillna(df['Seating Capacity'].mode()[0], inplace=True)"
   ]
  },
  {
   "cell_type": "code",
   "execution_count": 169,
   "id": "12e154af-6804-443e-b456-6f2871cb1b54",
   "metadata": {},
   "outputs": [
    {
     "data": {
      "text/plain": [
       "(8284, 29)"
      ]
     },
     "execution_count": 169,
     "metadata": {},
     "output_type": "execute_result"
    }
   ],
   "source": [
    "df.shape"
   ]
  },
  {
   "cell_type": "code",
   "execution_count": 170,
   "id": "dbaae3a3-5cb7-4410-90b4-f65ed1082a49",
   "metadata": {},
   "outputs": [
    {
     "data": {
      "text/plain": [
       "ft                       0\n",
       "bt                       4\n",
       "km                       0\n",
       "transmission             0\n",
       "ownerNo                  0\n",
       "oem                      0\n",
       "model                    0\n",
       "modelYear                0\n",
       "variantName              0\n",
       "price                    0\n",
       "Insurance Validity       4\n",
       "RTO                    874\n",
       "Mileage                  0\n",
       "Color                    3\n",
       "Engine Type            290\n",
       "Displacement             0\n",
       "No of Cylinder           0\n",
       "Fuel Suppy System     1708\n",
       "Turbo Charger         1029\n",
       "Super Charger         1938\n",
       "Gear Box               106\n",
       "Drive Type            1540\n",
       "Seating Capacity         0\n",
       "Steering Type          254\n",
       "Front Brake Type        96\n",
       "Rear Brake Type         96\n",
       "Tyre Type               77\n",
       "No Door Numbers          0\n",
       "Location                 0\n",
       "dtype: int64"
      ]
     },
     "execution_count": 170,
     "metadata": {},
     "output_type": "execute_result"
    }
   ],
   "source": [
    "df.isna().sum()"
   ]
  },
  {
   "cell_type": "code",
   "execution_count": 171,
   "id": "6d2d9b5b-5eca-4d08-a4bd-055ab7cb5df1",
   "metadata": {},
   "outputs": [
    {
     "data": {
      "text/plain": [
       "ft                     object\n",
       "bt                     object\n",
       "km                    float64\n",
       "transmission           object\n",
       "ownerNo                 int64\n",
       "oem                    object\n",
       "model                  object\n",
       "modelYear               int64\n",
       "variantName            object\n",
       "price                 float64\n",
       "Insurance Validity     object\n",
       "RTO                    object\n",
       "Mileage               float64\n",
       "Color                  object\n",
       "Engine Type            object\n",
       "Displacement          float64\n",
       "No of Cylinder        float64\n",
       "Fuel Suppy System      object\n",
       "Turbo Charger          object\n",
       "Super Charger          object\n",
       "Gear Box               object\n",
       "Drive Type             object\n",
       "Seating Capacity      float64\n",
       "Steering Type          object\n",
       "Front Brake Type       object\n",
       "Rear Brake Type        object\n",
       "Tyre Type              object\n",
       "No Door Numbers       float64\n",
       "Location               object\n",
       "dtype: object"
      ]
     },
     "execution_count": 171,
     "metadata": {},
     "output_type": "execute_result"
    }
   ],
   "source": [
    "df.dtypes"
   ]
  },
  {
   "cell_type": "code",
   "execution_count": 172,
   "id": "ebca99c2-8258-4f8a-8ae7-55492e45e99f",
   "metadata": {},
   "outputs": [
    {
     "data": {
      "text/plain": [
       "(7838, 29)"
      ]
     },
     "execution_count": 172,
     "metadata": {},
     "output_type": "execute_result"
    }
   ],
   "source": [
    "# Remove outliers in the numerical columns using z-score\n",
    "# Function to remove outliers using Z-score\n",
    "def remove_outliers(df, columns, z_thresh=3):\n",
    "        for column in columns:\n",
    "        # Calculate Z-scores\n",
    "            z_scores = stats.zscore(df[column])\n",
    "        \n",
    "        # Filter out the outliers\n",
    "            df = df[(abs(z_scores) < z_thresh)]\n",
    "    \n",
    "        return df\n",
    "\n",
    "# Apply the function to the DataFrame\n",
    "columns_to_check = ['km','price','modelYear','Mileage','Displacement']\n",
    "df_outliers_removed = remove_outliers(df, columns_to_check)\n",
    "df_outliers_removed.shape"
   ]
  },
  {
   "cell_type": "markdown",
   "id": "ca458271-ddbf-4947-aac0-a79b1c934625",
   "metadata": {},
   "source": [
    "### correlation heatmap for numerical features"
   ]
  },
  {
   "cell_type": "code",
   "execution_count": 173,
   "id": "46c9085f-9573-45a8-836a-10875c250217",
   "metadata": {},
   "outputs": [
    {
     "data": {
      "image/png": "[encoded data removed]",
      "text/plain": [
       "<Figure size 1200x900 with 2 Axes>"
      ]
     },
     "metadata": {},
     "output_type": "display_data"
    },
    {
     "name": "stdout",
     "output_type": "stream",
     "text": [
      "Correlation values with 'price':\n",
      "km                 -0.256213\n",
      "ownerNo            -0.169339\n",
      "modelYear           0.421369\n",
      "price               1.000000\n",
      "Mileage            -0.343811\n",
      "Displacement        0.565857\n",
      "No of Cylinder      0.245100\n",
      "Seating Capacity    0.137682\n",
      "No Door Numbers    -0.043681\n",
      "Name: price, dtype: float64\n"
     ]
    }
   ],
   "source": [
    "# Selecting only the numeric columns\n",
    "numeric_cols_df = df_outliers_removed.select_dtypes(include=['float64', 'int64'])\n",
    "\n",
    "# Create a correlation matrix for the numeric columns\n",
    "corr_matrix = numeric_cols_df.corr()\n",
    "\n",
    "# Visualize the correlation matrix as a heatmap\n",
    "plt.figure(figsize=(12, 9)) \n",
    "sns.heatmap(corr_matrix, annot=True, cmap='coolwarm', vmin=-1, vmax=1, linecolor='white', linewidths=1)  \n",
    "plt.title('Heatmap of Correlations Between Numerical Features', fontsize=16)\n",
    "plt.show()\n",
    "\n",
    "# Extracting correlations with 'price' column\n",
    "price_corr = corr_matrix['price']\n",
    "\n",
    "# Displaying the correlation values related to 'price'\n",
    "print(\"Correlation values with 'price':\")\n",
    "print(price_corr)\n"
   ]
  },
  {
   "cell_type": "code",
   "execution_count": 174,
   "id": "67f1cc18-6343-4eaf-a525-724fee9e400f",
   "metadata": {},
   "outputs": [
    {
     "name": "stderr",
     "output_type": "stream",
     "text": [
      "C:\\Users\\saina\\AppData\\Local\\Temp\\ipykernel_3228\\3990660344.py:3: FutureWarning: \n",
      "\n",
      "Passing `palette` without assigning `hue` is deprecated and will be removed in v0.14.0. Assign the `x` variable to `hue` and set `legend=False` for the same effect.\n",
      "\n",
      "  sns.barplot(x=price_corr.index, y=price_corr.values, palette='RdYlBu')\n"
     ]
    },
    {
     "data": {
      "image/png": "[encoded data removed]",
      "text/plain": [
       "<Figure size 1200x700 with 1 Axes>"
      ]
     },
     "metadata": {},
     "output_type": "display_data"
    }
   ],
   "source": [
    "# Visualize the correlation of numerical columns with 'price' using a bar plot\n",
    "plt.figure(figsize=(12, 7)) \n",
    "sns.barplot(x=price_corr.index, y=price_corr.values, palette='RdYlBu') \n",
    "plt.title('Correlation of Numerical Features with Price', fontsize=16)\n",
    "plt.xlabel('Numerical Features', fontsize=12)\n",
    "plt.ylabel('Correlation Coefficient', fontsize=12)\n",
    "plt.xticks(rotation=45, ha='right') \n",
    "plt.tight_layout() \n",
    "plt.show()"
   ]
  },
  {
   "cell_type": "code",
   "execution_count": 175,
   "id": "5222d117-17e9-4627-b32b-d1e300ad965c",
   "metadata": {},
   "outputs": [],
   "source": [
    "#The features modelYear, engine displacement, and km show a strong correlation with price. \n",
    "# while Seating Capacity, No Door Numbers, and No of Cylinder can be removed as they have little impact on the price.\n",
    "# so we drop these columns\n",
    "df_outliers_removed.drop(['Seating Capacity','No Door Numbers','No of Cylinder'],axis=1,inplace=True)"
   ]
  },
  {
   "cell_type": "code",
   "execution_count": 176,
   "id": "2588f579-804b-45ac-b25a-55a381bc2680",
   "metadata": {},
   "outputs": [
    {
     "data": {
      "text/html": [
       "<div>\n",
       "<style scoped>\n",
       "    .dataframe tbody tr th:only-of-type {\n",
       "        vertical-align: middle;\n",
       "    }\n",
       "\n",
       "    .dataframe tbody tr th {\n",
       "        vertical-align: top;\n",
       "    }\n",
       "\n",
       "    .dataframe thead th {\n",
       "        text-align: right;\n",
       "    }\n",
       "</style>\n",
       "<table border=\"1\" class=\"dataframe\">\n",
       "  <thead>\n",
       "    <tr style=\"text-align: right;\">\n",
       "      <th></th>\n",
       "      <th>ft</th>\n",
       "      <th>bt</th>\n",
       "      <th>km</th>\n",
       "      <th>transmission</th>\n",
       "      <th>ownerNo</th>\n",
       "      <th>oem</th>\n",
       "      <th>model</th>\n",
       "      <th>modelYear</th>\n",
       "      <th>variantName</th>\n",
       "      <th>price</th>\n",
       "      <th>...</th>\n",
       "      <th>Fuel Suppy System</th>\n",
       "      <th>Turbo Charger</th>\n",
       "      <th>Super Charger</th>\n",
       "      <th>Gear Box</th>\n",
       "      <th>Drive Type</th>\n",
       "      <th>Steering Type</th>\n",
       "      <th>Front Brake Type</th>\n",
       "      <th>Rear Brake Type</th>\n",
       "      <th>Tyre Type</th>\n",
       "      <th>Location</th>\n",
       "    </tr>\n",
       "  </thead>\n",
       "  <tbody>\n",
       "    <tr>\n",
       "      <th>0</th>\n",
       "      <td>Petrol</td>\n",
       "      <td>Hatchback</td>\n",
       "      <td>20000.0</td>\n",
       "      <td>Automatic</td>\n",
       "      <td>1</td>\n",
       "      <td>Volkswagen</td>\n",
       "      <td>Volkswagen Polo</td>\n",
       "      <td>2022</td>\n",
       "      <td>1.0 TSI Highline Plus AT</td>\n",
       "      <td>1044000.0</td>\n",
       "      <td>...</td>\n",
       "      <td>TSI</td>\n",
       "      <td>Yes</td>\n",
       "      <td>No</td>\n",
       "      <td>6 Speed</td>\n",
       "      <td>FWD</td>\n",
       "      <td>Electronic</td>\n",
       "      <td>Disc</td>\n",
       "      <td>Drum</td>\n",
       "      <td>Tubeless,Radial</td>\n",
       "      <td>hyderabad</td>\n",
       "    </tr>\n",
       "  </tbody>\n",
       "</table>\n",
       "<p>1 rows × 26 columns</p>\n",
       "</div>"
      ],
      "text/plain": [
       "       ft         bt       km transmission  ownerNo         oem  \\\n",
       "0  Petrol  Hatchback  20000.0    Automatic        1  Volkswagen   \n",
       "\n",
       "             model  modelYear               variantName      price  ...  \\\n",
       "0  Volkswagen Polo       2022  1.0 TSI Highline Plus AT  1044000.0  ...   \n",
       "\n",
       "  Fuel Suppy System Turbo Charger  Super Charger Gear Box Drive Type  \\\n",
       "0               TSI           Yes             No  6 Speed        FWD   \n",
       "\n",
       "   Steering Type Front Brake Type Rear Brake Type        Tyre Type   Location  \n",
       "0     Electronic             Disc            Drum  Tubeless,Radial  hyderabad  \n",
       "\n",
       "[1 rows x 26 columns]"
      ]
     },
     "execution_count": 176,
     "metadata": {},
     "output_type": "execute_result"
    }
   ],
   "source": [
    "df_outliers_removed.head(1)"
   ]
  },
  {
   "cell_type": "code",
   "execution_count": null,
   "id": "5d2be4ee-3a26-4d36-b254-4608d233a1ad",
   "metadata": {},
   "outputs": [],
   "source": []
  },
  {
   "cell_type": "markdown",
   "id": "f99be14d-b96a-4804-a39a-9e5481658b22",
   "metadata": {},
   "source": [
    "## Handling Categorical data"
   ]
  },
  {
   "cell_type": "code",
   "execution_count": 177,
   "id": "ccd4f8c5-f1f8-4253-ab43-2ea049b05391",
   "metadata": {},
   "outputs": [
    {
     "data": {
      "text/html": [
       "<div>\n",
       "<style scoped>\n",
       "    .dataframe tbody tr th:only-of-type {\n",
       "        vertical-align: middle;\n",
       "    }\n",
       "\n",
       "    .dataframe tbody tr th {\n",
       "        vertical-align: top;\n",
       "    }\n",
       "\n",
       "    .dataframe thead th {\n",
       "        text-align: right;\n",
       "    }\n",
       "</style>\n",
       "<table border=\"1\" class=\"dataframe\">\n",
       "  <thead>\n",
       "    <tr style=\"text-align: right;\">\n",
       "      <th></th>\n",
       "      <th>ft</th>\n",
       "      <th>bt</th>\n",
       "      <th>km</th>\n",
       "      <th>transmission</th>\n",
       "      <th>ownerNo</th>\n",
       "      <th>oem</th>\n",
       "      <th>model</th>\n",
       "      <th>modelYear</th>\n",
       "      <th>variantName</th>\n",
       "      <th>price</th>\n",
       "      <th>...</th>\n",
       "      <th>Fuel Suppy System</th>\n",
       "      <th>Turbo Charger</th>\n",
       "      <th>Super Charger</th>\n",
       "      <th>Gear Box</th>\n",
       "      <th>Drive Type</th>\n",
       "      <th>Steering Type</th>\n",
       "      <th>Front Brake Type</th>\n",
       "      <th>Rear Brake Type</th>\n",
       "      <th>Tyre Type</th>\n",
       "      <th>Location</th>\n",
       "    </tr>\n",
       "  </thead>\n",
       "  <tbody>\n",
       "    <tr>\n",
       "      <th>0</th>\n",
       "      <td>Petrol</td>\n",
       "      <td>Hatchback</td>\n",
       "      <td>20000.0</td>\n",
       "      <td>Automatic</td>\n",
       "      <td>1</td>\n",
       "      <td>Volkswagen</td>\n",
       "      <td>Volkswagen Polo</td>\n",
       "      <td>2022</td>\n",
       "      <td>1.0 TSI Highline Plus AT</td>\n",
       "      <td>1044000.0</td>\n",
       "      <td>...</td>\n",
       "      <td>TSI</td>\n",
       "      <td>Yes</td>\n",
       "      <td>No</td>\n",
       "      <td>6 Speed</td>\n",
       "      <td>FWD</td>\n",
       "      <td>Electronic</td>\n",
       "      <td>Disc</td>\n",
       "      <td>Drum</td>\n",
       "      <td>Tubeless,Radial</td>\n",
       "      <td>hyderabad</td>\n",
       "    </tr>\n",
       "    <tr>\n",
       "      <th>1</th>\n",
       "      <td>Petrol</td>\n",
       "      <td>Hatchback</td>\n",
       "      <td>85582.0</td>\n",
       "      <td>Manual</td>\n",
       "      <td>2</td>\n",
       "      <td>Hyundai</td>\n",
       "      <td>Hyundai EON</td>\n",
       "      <td>2014</td>\n",
       "      <td>Era Plus</td>\n",
       "      <td>260000.0</td>\n",
       "      <td>...</td>\n",
       "      <td>MPFI</td>\n",
       "      <td>No</td>\n",
       "      <td>No</td>\n",
       "      <td>5 Speed</td>\n",
       "      <td>FWD</td>\n",
       "      <td>Power</td>\n",
       "      <td>Disc</td>\n",
       "      <td>Drum</td>\n",
       "      <td>Tubeless</td>\n",
       "      <td>hyderabad</td>\n",
       "    </tr>\n",
       "    <tr>\n",
       "      <th>2</th>\n",
       "      <td>Petrol</td>\n",
       "      <td>SUV</td>\n",
       "      <td>10000.0</td>\n",
       "      <td>Manual</td>\n",
       "      <td>1</td>\n",
       "      <td>Hyundai</td>\n",
       "      <td>Hyundai Venue</td>\n",
       "      <td>2023</td>\n",
       "      <td>S BSVI</td>\n",
       "      <td>955000.0</td>\n",
       "      <td>...</td>\n",
       "      <td>NaN</td>\n",
       "      <td>No</td>\n",
       "      <td>NaN</td>\n",
       "      <td>5-Speed</td>\n",
       "      <td>NaN</td>\n",
       "      <td>Power</td>\n",
       "      <td>Disc</td>\n",
       "      <td>Drum</td>\n",
       "      <td>Tubeless, Radial</td>\n",
       "      <td>hyderabad</td>\n",
       "    </tr>\n",
       "    <tr>\n",
       "      <th>3</th>\n",
       "      <td>Petrol</td>\n",
       "      <td>Hatchback</td>\n",
       "      <td>50750.0</td>\n",
       "      <td>Manual</td>\n",
       "      <td>1</td>\n",
       "      <td>Maruti</td>\n",
       "      <td>Maruti Baleno</td>\n",
       "      <td>2017</td>\n",
       "      <td>1.2 Alpha</td>\n",
       "      <td>671000.0</td>\n",
       "      <td>...</td>\n",
       "      <td>MPFI</td>\n",
       "      <td>No</td>\n",
       "      <td>No</td>\n",
       "      <td>5 Speed</td>\n",
       "      <td>FWD</td>\n",
       "      <td>Power</td>\n",
       "      <td>Disc</td>\n",
       "      <td>Drum</td>\n",
       "      <td>Tubeless,Radial</td>\n",
       "      <td>hyderabad</td>\n",
       "    </tr>\n",
       "    <tr>\n",
       "      <th>4</th>\n",
       "      <td>Petrol</td>\n",
       "      <td>SUV</td>\n",
       "      <td>10000.0</td>\n",
       "      <td>Automatic</td>\n",
       "      <td>1</td>\n",
       "      <td>Mahindra</td>\n",
       "      <td>Mahindra Thar</td>\n",
       "      <td>2022</td>\n",
       "      <td>LX 4-Str Hard Top AT BSVI</td>\n",
       "      <td>1900000.0</td>\n",
       "      <td>...</td>\n",
       "      <td>NaN</td>\n",
       "      <td>Yes</td>\n",
       "      <td>NaN</td>\n",
       "      <td>6 Speed</td>\n",
       "      <td>4X4</td>\n",
       "      <td>Power</td>\n",
       "      <td>Disc</td>\n",
       "      <td>Drum</td>\n",
       "      <td>Radial, Tubeless</td>\n",
       "      <td>hyderabad</td>\n",
       "    </tr>\n",
       "    <tr>\n",
       "      <th>...</th>\n",
       "      <td>...</td>\n",
       "      <td>...</td>\n",
       "      <td>...</td>\n",
       "      <td>...</td>\n",
       "      <td>...</td>\n",
       "      <td>...</td>\n",
       "      <td>...</td>\n",
       "      <td>...</td>\n",
       "      <td>...</td>\n",
       "      <td>...</td>\n",
       "      <td>...</td>\n",
       "      <td>...</td>\n",
       "      <td>...</td>\n",
       "      <td>...</td>\n",
       "      <td>...</td>\n",
       "      <td>...</td>\n",
       "      <td>...</td>\n",
       "      <td>...</td>\n",
       "      <td>...</td>\n",
       "      <td>...</td>\n",
       "      <td>...</td>\n",
       "    </tr>\n",
       "    <tr>\n",
       "      <th>8364</th>\n",
       "      <td>Petrol</td>\n",
       "      <td>Hatchback</td>\n",
       "      <td>120000.0</td>\n",
       "      <td>Manual</td>\n",
       "      <td>1</td>\n",
       "      <td>Chevrolet</td>\n",
       "      <td>Chevrolet Beat</td>\n",
       "      <td>2011</td>\n",
       "      <td>LT</td>\n",
       "      <td>108000.0</td>\n",
       "      <td>...</td>\n",
       "      <td>MPFI</td>\n",
       "      <td>No</td>\n",
       "      <td>No</td>\n",
       "      <td>5 Speed</td>\n",
       "      <td>FWD</td>\n",
       "      <td>Power</td>\n",
       "      <td>Disc</td>\n",
       "      <td>Drum</td>\n",
       "      <td>Tubeless,Radial</td>\n",
       "      <td>Jaipur</td>\n",
       "    </tr>\n",
       "    <tr>\n",
       "      <th>8365</th>\n",
       "      <td>Petrol</td>\n",
       "      <td>Hatchback</td>\n",
       "      <td>70000.0</td>\n",
       "      <td>Manual</td>\n",
       "      <td>1</td>\n",
       "      <td>Maruti</td>\n",
       "      <td>Maruti Alto</td>\n",
       "      <td>2007</td>\n",
       "      <td>STD</td>\n",
       "      <td>105000.0</td>\n",
       "      <td>...</td>\n",
       "      <td>MPFI</td>\n",
       "      <td>No</td>\n",
       "      <td>No</td>\n",
       "      <td>5 Speed</td>\n",
       "      <td>2WD</td>\n",
       "      <td>Manual</td>\n",
       "      <td>Disc</td>\n",
       "      <td>Drum</td>\n",
       "      <td>Tubeless,Radial</td>\n",
       "      <td>Jaipur</td>\n",
       "    </tr>\n",
       "    <tr>\n",
       "      <th>8366</th>\n",
       "      <td>Petrol</td>\n",
       "      <td>SUV</td>\n",
       "      <td>20000.0</td>\n",
       "      <td>Manual</td>\n",
       "      <td>1</td>\n",
       "      <td>Renault</td>\n",
       "      <td>Renault Kiger</td>\n",
       "      <td>2022</td>\n",
       "      <td>RXZ</td>\n",
       "      <td>850000.0</td>\n",
       "      <td>...</td>\n",
       "      <td>MPFi</td>\n",
       "      <td>NaN</td>\n",
       "      <td>NaN</td>\n",
       "      <td>5 Speed</td>\n",
       "      <td>NaN</td>\n",
       "      <td>Electric</td>\n",
       "      <td>Disc</td>\n",
       "      <td>Drum</td>\n",
       "      <td>Tubeless, Radial</td>\n",
       "      <td>Jaipur</td>\n",
       "    </tr>\n",
       "    <tr>\n",
       "      <th>8367</th>\n",
       "      <td>Petrol</td>\n",
       "      <td>Hatchback</td>\n",
       "      <td>40000.0</td>\n",
       "      <td>Manual</td>\n",
       "      <td>1</td>\n",
       "      <td>Maruti</td>\n",
       "      <td>Maruti Alto</td>\n",
       "      <td>2009</td>\n",
       "      <td>Std</td>\n",
       "      <td>100000.0</td>\n",
       "      <td>...</td>\n",
       "      <td>MPFI</td>\n",
       "      <td>No</td>\n",
       "      <td>No</td>\n",
       "      <td>5 Speed</td>\n",
       "      <td>2WD</td>\n",
       "      <td>Manual</td>\n",
       "      <td>Disc</td>\n",
       "      <td>Drum</td>\n",
       "      <td>Tubeless,Radial</td>\n",
       "      <td>Jaipur</td>\n",
       "    </tr>\n",
       "    <tr>\n",
       "      <th>8368</th>\n",
       "      <td>Petrol</td>\n",
       "      <td>Hatchback</td>\n",
       "      <td>80000.0</td>\n",
       "      <td>Manual</td>\n",
       "      <td>1</td>\n",
       "      <td>Maruti</td>\n",
       "      <td>Maruti Baleno</td>\n",
       "      <td>2018</td>\n",
       "      <td>1.2 Delta</td>\n",
       "      <td>500000.0</td>\n",
       "      <td>...</td>\n",
       "      <td>MPFI</td>\n",
       "      <td>No</td>\n",
       "      <td>No</td>\n",
       "      <td>5 Speed</td>\n",
       "      <td>FWD</td>\n",
       "      <td>Power</td>\n",
       "      <td>Disc</td>\n",
       "      <td>Drum</td>\n",
       "      <td>Tubeless,Radial</td>\n",
       "      <td>Jaipur</td>\n",
       "    </tr>\n",
       "  </tbody>\n",
       "</table>\n",
       "<p>7838 rows × 26 columns</p>\n",
       "</div>"
      ],
      "text/plain": [
       "          ft         bt        km transmission  ownerNo         oem  \\\n",
       "0     Petrol  Hatchback   20000.0    Automatic        1  Volkswagen   \n",
       "1     Petrol  Hatchback   85582.0       Manual        2     Hyundai   \n",
       "2     Petrol        SUV   10000.0       Manual        1     Hyundai   \n",
       "3     Petrol  Hatchback   50750.0       Manual        1      Maruti   \n",
       "4     Petrol        SUV   10000.0    Automatic        1    Mahindra   \n",
       "...      ...        ...       ...          ...      ...         ...   \n",
       "8364  Petrol  Hatchback  120000.0       Manual        1   Chevrolet   \n",
       "8365  Petrol  Hatchback   70000.0       Manual        1      Maruti   \n",
       "8366  Petrol        SUV   20000.0       Manual        1     Renault   \n",
       "8367  Petrol  Hatchback   40000.0       Manual        1      Maruti   \n",
       "8368  Petrol  Hatchback   80000.0       Manual        1      Maruti   \n",
       "\n",
       "                model  modelYear                variantName      price  ...  \\\n",
       "0     Volkswagen Polo       2022   1.0 TSI Highline Plus AT  1044000.0  ...   \n",
       "1         Hyundai EON       2014                   Era Plus   260000.0  ...   \n",
       "2       Hyundai Venue       2023                     S BSVI   955000.0  ...   \n",
       "3       Maruti Baleno       2017                  1.2 Alpha   671000.0  ...   \n",
       "4       Mahindra Thar       2022  LX 4-Str Hard Top AT BSVI  1900000.0  ...   \n",
       "...               ...        ...                        ...        ...  ...   \n",
       "8364   Chevrolet Beat       2011                         LT   108000.0  ...   \n",
       "8365      Maruti Alto       2007                        STD   105000.0  ...   \n",
       "8366    Renault Kiger       2022                        RXZ   850000.0  ...   \n",
       "8367      Maruti Alto       2009                        Std   100000.0  ...   \n",
       "8368    Maruti Baleno       2018                  1.2 Delta   500000.0  ...   \n",
       "\n",
       "     Fuel Suppy System Turbo Charger  Super Charger Gear Box Drive Type  \\\n",
       "0                  TSI           Yes             No  6 Speed        FWD   \n",
       "1                 MPFI            No             No  5 Speed        FWD   \n",
       "2                  NaN            No            NaN  5-Speed        NaN   \n",
       "3                 MPFI            No             No  5 Speed        FWD   \n",
       "4                  NaN           Yes            NaN  6 Speed        4X4   \n",
       "...                ...           ...            ...      ...        ...   \n",
       "8364              MPFI            No             No  5 Speed        FWD   \n",
       "8365              MPFI            No             No  5 Speed        2WD   \n",
       "8366              MPFi           NaN            NaN  5 Speed        NaN   \n",
       "8367              MPFI            No             No  5 Speed        2WD   \n",
       "8368              MPFI            No             No  5 Speed        FWD   \n",
       "\n",
       "      Steering Type Front Brake Type Rear Brake Type         Tyre Type  \\\n",
       "0        Electronic             Disc            Drum   Tubeless,Radial   \n",
       "1             Power             Disc            Drum          Tubeless   \n",
       "2             Power             Disc            Drum  Tubeless, Radial   \n",
       "3             Power             Disc            Drum   Tubeless,Radial   \n",
       "4             Power             Disc            Drum  Radial, Tubeless   \n",
       "...             ...              ...             ...               ...   \n",
       "8364          Power             Disc            Drum   Tubeless,Radial   \n",
       "8365         Manual             Disc            Drum   Tubeless,Radial   \n",
       "8366       Electric             Disc            Drum  Tubeless, Radial   \n",
       "8367         Manual             Disc            Drum   Tubeless,Radial   \n",
       "8368          Power             Disc            Drum   Tubeless,Radial   \n",
       "\n",
       "       Location  \n",
       "0     hyderabad  \n",
       "1     hyderabad  \n",
       "2     hyderabad  \n",
       "3     hyderabad  \n",
       "4     hyderabad  \n",
       "...         ...  \n",
       "8364     Jaipur  \n",
       "8365     Jaipur  \n",
       "8366     Jaipur  \n",
       "8367     Jaipur  \n",
       "8368     Jaipur  \n",
       "\n",
       "[7838 rows x 26 columns]"
      ]
     },
     "execution_count": 177,
     "metadata": {},
     "output_type": "execute_result"
    }
   ],
   "source": [
    "df_outliers_removed"
   ]
  },
  {
   "cell_type": "markdown",
   "id": "798d7ed3-2e3c-4cbc-893e-ef78f8c13901",
   "metadata": {},
   "source": [
    "### ft - Fuel type\n"
   ]
  },
  {
   "cell_type": "code",
   "execution_count": 178,
   "id": "9f561215-b709-4aa7-838b-853dd55f37d6",
   "metadata": {},
   "outputs": [
    {
     "data": {
      "text/plain": [
       "ft\n",
       "Petrol    5360\n",
       "Diesel    2394\n",
       "Cng         68\n",
       "Lpg         16\n",
       "Name: count, dtype: int64"
      ]
     },
     "execution_count": 178,
     "metadata": {},
     "output_type": "execute_result"
    }
   ],
   "source": [
    "df_outliers_removed['ft'].value_counts()"
   ]
  },
  {
   "cell_type": "code",
   "execution_count": 179,
   "id": "08c5dd4d-fc7a-4959-b7ab-21902dbc1ee7",
   "metadata": {},
   "outputs": [
    {
     "data": {
      "image/png": "[encoded data removed]",
      "text/plain": [
       "<Figure size 1200x800 with 1 Axes>"
      ]
     },
     "metadata": {},
     "output_type": "display_data"
    }
   ],
   "source": [
    "plt.figure(figsize=(12, 8))\n",
    "average_prices = df_outliers_removed.groupby('ft')['price'].mean().sort_values()\n",
    "average_prices.plot(kind='bar')\n",
    "plt.xticks(rotation=90)\n",
    "plt.title('Average car price by fuel type')\n",
    "plt.xlabel('Fuel Type')\n",
    "plt.ylabel('Average Price')\n",
    "plt.show()"
   ]
  },
  {
   "cell_type": "code",
   "execution_count": 180,
   "id": "be428628-304b-4ed9-9d87-cbe48d768845",
   "metadata": {},
   "outputs": [],
   "source": [
    "# we need to keep this column because it shows price difference clearly"
   ]
  },
  {
   "cell_type": "markdown",
   "id": "3339cad5-8141-4a5c-9029-6eef3d98b27f",
   "metadata": {},
   "source": [
    "### bt - body type\n"
   ]
  },
  {
   "cell_type": "code",
   "execution_count": 181,
   "id": "53f69f9e-df96-4e9d-a9b4-4d6f566925bb",
   "metadata": {},
   "outputs": [
    {
     "data": {
      "text/plain": [
       "bt\n",
       "Hatchback        3478\n",
       "Sedan            2039\n",
       "SUV              1958\n",
       "MUV               331\n",
       "Minivans           19\n",
       "Pickup Trucks       5\n",
       "Coupe               2\n",
       "Convertibles        2\n",
       "Wagon               1\n",
       "Name: count, dtype: int64"
      ]
     },
     "execution_count": 181,
     "metadata": {},
     "output_type": "execute_result"
    }
   ],
   "source": [
    "df_outliers_removed['bt'].value_counts()"
   ]
  },
  {
   "cell_type": "code",
   "execution_count": 182,
   "id": "a7bcf04a-d298-4de5-99ae-cd50987cf4e5",
   "metadata": {},
   "outputs": [
    {
     "name": "stdout",
     "output_type": "stream",
     "text": [
      "bt\n",
      "Hatchback    3478\n",
      "Sedan        2039\n",
      "SUV          1958\n",
      "MUV           331\n",
      "Minivans       19\n",
      "Other          10\n",
      "Name: count, dtype: int64\n"
     ]
    }
   ],
   "source": [
    "# we can either combine the last 4 categories into one 'others' category or just drop those rows \n",
    "df_outliers_removed['bt']= df_outliers_removed['bt'].replace('Pickup Trucks','Other')\n",
    "df_outliers_removed['bt']= df_outliers_removed['bt'].replace('Coupe','Other')\n",
    "df_outliers_removed['bt']= df_outliers_removed['bt'].replace('Convertibles','Other')\n",
    "df_outliers_removed['bt']= df_outliers_removed['bt'].replace('Wagon','Other')\n",
    "# here we combined the Pickup Trucks, Coupe, Convertibles, Wagon categories into 'Other'\n",
    "\n",
    "print(df_outliers_removed['bt'].value_counts())"
   ]
  },
  {
   "cell_type": "code",
   "execution_count": 183,
   "id": "43034f17-deea-4e95-9f5b-38196f6d34d9",
   "metadata": {},
   "outputs": [
    {
     "name": "stdout",
     "output_type": "stream",
     "text": [
      "3\n",
      "0\n"
     ]
    }
   ],
   "source": [
    "print(df_outliers_removed['bt'].isna().sum())\n",
    "df_outliers_removed = df_outliers_removed.dropna(subset='bt')\n",
    "print(df_outliers_removed['bt'].isna().sum())"
   ]
  },
  {
   "cell_type": "code",
   "execution_count": 184,
   "id": "0aef108d-c668-4b17-80f3-f0ffe2b31629",
   "metadata": {},
   "outputs": [
    {
     "data": {
      "image/png": "[encoded data removed]",
      "text/plain": [
       "<Figure size 1200x800 with 1 Axes>"
      ]
     },
     "metadata": {},
     "output_type": "display_data"
    }
   ],
   "source": [
    "plt.figure(figsize=(12, 8))\n",
    "average_prices = df_outliers_removed.groupby('bt')['price'].mean().sort_values()\n",
    "average_prices.plot(kind='bar')\n",
    "plt.xticks(rotation=90)\n",
    "plt.title('Average car price by body type')\n",
    "plt.xlabel('Body Type')\n",
    "plt.ylabel('Average Price')\n",
    "plt.show()"
   ]
  },
  {
   "cell_type": "code",
   "execution_count": 185,
   "id": "076c7cfb-5e25-4c39-8d21-2763f32ba47d",
   "metadata": {},
   "outputs": [],
   "source": [
    "# we need to keep this column because it shows price difference clearly"
   ]
  },
  {
   "cell_type": "markdown",
   "id": "7c7b587c-c4e2-4208-8ddc-34f5eff645aa",
   "metadata": {},
   "source": [
    "### transmission"
   ]
  },
  {
   "cell_type": "code",
   "execution_count": 186,
   "id": "bf3ffcdc-1dc5-47ca-9365-30f4c1b434ec",
   "metadata": {},
   "outputs": [
    {
     "data": {
      "text/plain": [
       "transmission\n",
       "Manual       5856\n",
       "Automatic    1979\n",
       "Name: count, dtype: int64"
      ]
     },
     "execution_count": 186,
     "metadata": {},
     "output_type": "execute_result"
    }
   ],
   "source": [
    "df_outliers_removed['transmission'].value_counts()"
   ]
  },
  {
   "cell_type": "code",
   "execution_count": 187,
   "id": "c31f8f80-bb10-41d4-8890-99390092abe1",
   "metadata": {},
   "outputs": [],
   "source": [
    "# we know this is very important , so we keep this "
   ]
  },
  {
   "cell_type": "markdown",
   "id": "bcf6473d-bc79-4541-bab8-f7d81b35c67b",
   "metadata": {},
   "source": [
    "### oem"
   ]
  },
  {
   "cell_type": "code",
   "execution_count": 188,
   "id": "c1ac0265-1342-4dea-8a6c-77d89d633514",
   "metadata": {},
   "outputs": [
    {
     "data": {
      "text/plain": [
       "oem\n",
       "Maruti                False\n",
       "Hyundai               False\n",
       "Honda                 False\n",
       "Tata                  False\n",
       "Mahindra              False\n",
       "Renault               False\n",
       "Volkswagen            False\n",
       "Ford                  False\n",
       "Toyota                False\n",
       "Skoda                 False\n",
       "Kia                   False\n",
       "Mercedes-Benz         False\n",
       "Audi                  False\n",
       "BMW                   False\n",
       "Jeep                  False\n",
       "MG                    False\n",
       "Nissan                False\n",
       "Chevrolet             False\n",
       "Datsun                False\n",
       "Volvo                 False\n",
       "Fiat                  False\n",
       "Jaguar                False\n",
       "Land Rover            False\n",
       "Mini                  False\n",
       "Mitsubishi            False\n",
       "Citroen               False\n",
       "Mahindra Renault       True\n",
       "Mahindra Ssangyong     True\n",
       "Lexus                  True\n",
       "Hindustan Motors       True\n",
       "Isuzu                  True\n",
       "Porsche                True\n",
       "Name: count, dtype: bool"
      ]
     },
     "execution_count": 188,
     "metadata": {},
     "output_type": "execute_result"
    }
   ],
   "source": [
    "df_outliers_removed['oem'].value_counts() <= 5"
   ]
  },
  {
   "cell_type": "code",
   "execution_count": 190,
   "id": "ce23894d-a299-452f-b1e7-dd00264d9c6c",
   "metadata": {},
   "outputs": [
    {
     "name": "stdout",
     "output_type": "stream",
     "text": [
      "oem\n",
      "Maruti           2169\n",
      "Hyundai          1626\n",
      "Honda             852\n",
      "Tata              408\n",
      "Mahindra          365\n",
      "Renault           309\n",
      "Volkswagen        286\n",
      "Ford              283\n",
      "Toyota            245\n",
      "Skoda             158\n",
      "Kia               155\n",
      "Mercedes-Benz     151\n",
      "Audi              129\n",
      "BMW               122\n",
      "Jeep              108\n",
      "MG                 83\n",
      "Nissan             78\n",
      "Chevrolet          76\n",
      "Datsun             74\n",
      "Volvo              37\n",
      "Fiat               30\n",
      "Jaguar             25\n",
      "Land Rover         22\n",
      "Mini               11\n",
      "Mitsubishi          9\n",
      "Citroen             8\n",
      "Name: count, dtype: int64\n"
     ]
    }
   ],
   "source": [
    "# We drop the rows with brands having less than 5 cars \n",
    "\n",
    "oem_counts = df_outliers_removed['oem'].value_counts()\n",
    "df_outliers_removed = df_outliers_removed[df_outliers_removed['oem'].map(oem_counts) > 5]\n",
    "print(df_outliers_removed['oem'].value_counts())"
   ]
  },
  {
   "cell_type": "code",
   "execution_count": 191,
   "id": "183d6567-0086-4b09-92b1-00c6baf3c887",
   "metadata": {},
   "outputs": [
    {
     "data": {
      "image/png": "[encoded data removed]",
      "text/plain": [
       "<Figure size 1200x800 with 1 Axes>"
      ]
     },
     "metadata": {},
     "output_type": "display_data"
    }
   ],
   "source": [
    "plt.figure(figsize=(12, 8))\n",
    "average_prices = df_outliers_removed.groupby('oem')['price'].mean().sort_values()\n",
    "average_prices.plot(kind='bar')\n",
    "plt.xticks(rotation=90)\n",
    "plt.title('Average car price by company')\n",
    "plt.xlabel('Company')\n",
    "plt.ylabel('Average Price')\n",
    "plt.show()"
   ]
  },
  {
   "cell_type": "code",
   "execution_count": 192,
   "id": "d592ea1c-ade6-4090-9356-255378d4bebd",
   "metadata": {},
   "outputs": [],
   "source": [
    "df_outliers_removed.rename(columns={'oem': 'company'}, inplace=True)\n"
   ]
  },
  {
   "cell_type": "markdown",
   "id": "3cd95b65-6329-411a-85e5-d0b3f85e6ca8",
   "metadata": {},
   "source": [
    "### model"
   ]
  },
  {
   "cell_type": "code",
   "execution_count": 158,
   "id": "edbfa073-c9a7-417a-93a6-3a5bd32ef13c",
   "metadata": {},
   "outputs": [
    {
     "name": "stdout",
     "output_type": "stream",
     "text": [
      "model\n",
      "Honda City              False\n",
      "Maruti Swift            False\n",
      "Hyundai i20             False\n",
      "Maruti Baleno           False\n",
      "Hyundai Grand i10       False\n",
      "                        ...  \n",
      "Mini 5 DOOR              True\n",
      "Fiat Punto Pure          True\n",
      "Volvo S 80               True\n",
      "Tata Aria                True\n",
      "Volkswagen CrossPolo     True\n",
      "Name: count, Length: 254, dtype: bool\n"
     ]
    }
   ],
   "source": [
    "print(df_outliers_removed['model'].value_counts() < 10)"
   ]
  },
  {
   "cell_type": "code",
   "execution_count": 194,
   "id": "f35f7874-2d1c-43d4-9f2b-c428793432c5",
   "metadata": {},
   "outputs": [
    {
     "name": "stdout",
     "output_type": "stream",
     "text": [
      "                    model  count\n",
      "133             Volvo S60      9\n",
      "134    Tata Safari Storme      9\n",
      "135        Ford Freestyle      9\n",
      "136           Skoda Laura      9\n",
      "137        Chevrolet Sail      9\n",
      "..                    ...    ...\n",
      "249           Mini 5 DOOR      1\n",
      "250       Fiat Punto Pure      1\n",
      "251            Volvo S 80      1\n",
      "252             Tata Aria      1\n",
      "253  Volkswagen CrossPolo      1\n",
      "\n",
      "[121 rows x 2 columns]\n"
     ]
    }
   ],
   "source": [
    "# checking models with less than 10 cars listed \n",
    "import pandas as pd\n",
    "\n",
    "# Assuming df_outliers_removed is your DataFrame\n",
    "value_counts = df_outliers_removed['model'].value_counts()\n",
    "\n",
    "# Convert the result to a DataFrame\n",
    "value_counts_df = value_counts.reset_index()\n",
    "\n",
    "# Rename the columns for better readability\n",
    "value_counts_df.columns = ['model', 'count']\n",
    "\n",
    "filtered_value_counts_df = value_counts_df[value_counts_df['count'] < 10]\n",
    "print(filtered_value_counts_df)"
   ]
  },
  {
   "cell_type": "code",
   "execution_count": 195,
   "id": "4d09e5d4-6a68-459c-b0a6-30e2cc6de41b",
   "metadata": {},
   "outputs": [
    {
     "data": {
      "text/plain": [
       "420"
      ]
     },
     "execution_count": 195,
     "metadata": {},
     "output_type": "execute_result"
    }
   ],
   "source": [
    "# we have 420 rows with the data of the models that have less than 10 cars \n",
    "filtered_value_counts_df['count'].sum()"
   ]
  },
  {
   "cell_type": "code",
   "execution_count": 196,
   "id": "20c99844-e8c2-4c71-8e57-84dfa726dd50",
   "metadata": {},
   "outputs": [
    {
     "name": "stdout",
     "output_type": "stream",
     "text": [
      "(7399, 26)\n"
     ]
    }
   ],
   "source": [
    "# Define the threshold\n",
    "threshold = 10\n",
    "\n",
    "# Identify models to keep and filter\n",
    "categories_to_keep_model = value_counts[value_counts >= threshold].index\n",
    "df_outliers_removed = df_outliers_removed[df_outliers_removed['model'].isin(categories_to_keep_model)]\n",
    "\n",
    "# Display the shape of the filtered DataFrame\n",
    "print(df_outliers_removed.shape)"
   ]
  },
  {
   "cell_type": "code",
   "execution_count": 199,
   "id": "35381278-fbd5-4e36-bcf6-61f48fb0d779",
   "metadata": {},
   "outputs": [
    {
     "data": {
      "text/plain": [
       "model\n",
       "Honda City                       363\n",
       "Maruti Swift                     348\n",
       "Hyundai i20                      328\n",
       "Maruti Baleno                    292\n",
       "Hyundai Grand i10                259\n",
       "                                ... \n",
       "Mahindra Marazzo                  10\n",
       "Mahindra XUV700                   10\n",
       "MG Gloster                        10\n",
       "Toyota Camry                      10\n",
       "Land Rover Range Rover Evoque     10\n",
       "Name: count, Length: 133, dtype: int64"
      ]
     },
     "execution_count": 199,
     "metadata": {},
     "output_type": "execute_result"
    }
   ],
   "source": [
    "df_outliers_removed['model'].value_counts()"
   ]
  },
  {
   "cell_type": "markdown",
   "id": "73b45233-58ed-44df-8ed4-ce7bb2a45049",
   "metadata": {},
   "source": [
    "### variantName"
   ]
  },
  {
   "cell_type": "code",
   "execution_count": 197,
   "id": "f64776ec-7661-400d-88c6-115bb9b57264",
   "metadata": {},
   "outputs": [],
   "source": [
    "# there are more than 250 models and many classes in Variant name,so we drop these.\n",
    "df_outliers_removed.drop('variantName',axis=1,inplace=True)\n"
   ]
  },
  {
   "cell_type": "markdown",
   "id": "bf795887-8bbc-42fd-b5c6-eba291742361",
   "metadata": {},
   "source": [
    "### Insurance Validity"
   ]
  },
  {
   "cell_type": "code",
   "execution_count": 201,
   "id": "08a5c8cc-f7c6-45a7-a612-016323966b85",
   "metadata": {},
   "outputs": [
    {
     "data": {
      "text/plain": [
       "Insurance Validity\n",
       "Third Party insurance    3536\n",
       "Comprehensive            2753\n",
       "Third Party               609\n",
       "Zero Dep                  289\n",
       "Not Available             204\n",
       "1                           3\n",
       "2                           1\n",
       "Name: count, dtype: int64"
      ]
     },
     "execution_count": 201,
     "metadata": {},
     "output_type": "execute_result"
    }
   ],
   "source": [
    "df_outliers_removed['Insurance Validity'].value_counts()"
   ]
  },
  {
   "cell_type": "code",
   "execution_count": 202,
   "id": "105b1764-403e-46ec-b396-f5dc86f9790d",
   "metadata": {},
   "outputs": [
    {
     "name": "stdout",
     "output_type": "stream",
     "text": [
      "4\n",
      "0\n"
     ]
    }
   ],
   "source": [
    "# we have 4 null rows in this column so we drop them\n",
    "print(df_outliers_removed['Insurance Validity'].isna().sum())\n",
    "df_outliers_removed = df_outliers_removed.dropna(subset = ['Insurance Validity'])\n",
    "print(df_outliers_removed['Insurance Validity'].isna().sum())\n"
   ]
  },
  {
   "cell_type": "code",
   "execution_count": 203,
   "id": "0eba93ac-9c5f-48b0-834b-df95d388217b",
   "metadata": {},
   "outputs": [
    {
     "name": "stderr",
     "output_type": "stream",
     "text": [
      "C:\\Users\\saina\\AppData\\Local\\Temp\\ipykernel_3228\\1069776504.py:2: FutureWarning: A value is trying to be set on a copy of a DataFrame or Series through chained assignment using an inplace method.\n",
      "The behavior will change in pandas 3.0. This inplace method will never work because the intermediate object on which we are setting values always behaves as a copy.\n",
      "\n",
      "For example, when doing 'df[col].method(value, inplace=True)', try using 'df.method({col: value}, inplace=True)' or df[col] = df[col].method(value) instead, to perform the operation inplace on the original object.\n",
      "\n",
      "\n",
      "  df_outliers_removed['Insurance Validity'].replace({'1': 'Not Available', '2': 'Not Available','Third Party':'Third Party insurance'}, inplace=True)\n"
     ]
    },
    {
     "data": {
      "image/png": "[encoded data removed]",
      "text/plain": [
       "<Figure size 1200x800 with 1 Axes>"
      ]
     },
     "metadata": {},
     "output_type": "display_data"
    }
   ],
   "source": [
    "# convert rows with values  '1' and '2'  into 'Not Available'\n",
    "df_outliers_removed['Insurance Validity'].replace({'1': 'Not Available', '2': 'Not Available','Third Party':'Third Party insurance'}, inplace=True)\n",
    "\n",
    "#plotting bar graph wrt price\n",
    "plt.figure(figsize=(12, 8))\n",
    "average_prices = df_outliers_removed.groupby('Insurance Validity')['price'].mean().sort_values()\n",
    "average_prices.plot(kind='bar')\n",
    "plt.xticks(rotation=90)\n",
    "plt.title('Average car price by Insurance Validity')\n",
    "plt.xlabel('Insurance Validity')\n",
    "plt.ylabel('Average Price')\n",
    "plt.show()"
   ]
  },
  {
   "cell_type": "code",
   "execution_count": null,
   "id": "42a36390-818b-4d65-9fc2-aaa75de79993",
   "metadata": {},
   "outputs": [],
   "source": []
  },
  {
   "cell_type": "markdown",
   "id": "10d61c88-60fe-42a9-9136-e9aa92869f9f",
   "metadata": {},
   "source": [
    "### RTO"
   ]
  },
  {
   "cell_type": "code",
   "execution_count": 204,
   "id": "39d430d3-d3cc-4d3a-90fc-0c4a8f4a3f73",
   "metadata": {},
   "outputs": [
    {
     "name": "stdout",
     "output_type": "stream",
     "text": [
      "RTO\n",
      "WB02    415\n",
      "RJ14    322\n",
      "TS07    260\n",
      "TS08    229\n",
      "KA03    211\n",
      "       ... \n",
      "Wb12      1\n",
      "Wb52      1\n",
      "wb02      1\n",
      "Wb34      1\n",
      "UP82      1\n",
      "Name: count, Length: 431, dtype: int64\n",
      "764\n"
     ]
    }
   ],
   "source": [
    "print(df_outliers_removed['RTO'].value_counts())\n",
    "print(df_outliers_removed['RTO'].isna().sum())"
   ]
  },
  {
   "cell_type": "code",
   "execution_count": 205,
   "id": "bf9c0615-2647-43eb-a668-5c0412a5eef6",
   "metadata": {},
   "outputs": [],
   "source": [
    "# there are many null values in this column, so we cannot drop them or we will loose data. we assign 'unknown' to such columns \n",
    "# and we group the RTO location by state"
   ]
  },
  {
   "cell_type": "code",
   "execution_count": 206,
   "id": "a2c602da-44a2-4ab3-927f-032a8a3d9487",
   "metadata": {},
   "outputs": [
    {
     "name": "stdout",
     "output_type": "stream",
     "text": [
      "0\n"
     ]
    }
   ],
   "source": [
    "# Mapping dictionary for RTO regions\n",
    "rto_region_mapping = {\n",
    "    'KA': 'Karnataka',\n",
    "    'HR': 'Haryana',\n",
    "    'WB': 'West Bengal',\n",
    "    'TN': 'Tamil Nadu',\n",
    "    'UP': 'Uttar Pradesh',\n",
    "    'DL': 'Delhi',\n",
    "    'MH': 'Maharashtra',\n",
    "    'RJ': 'Rajasthan',\n",
    "    'AP': 'Andhra Pradesh',\n",
    "    'GJ': 'Gujarat',\n",
    "    'OR': 'Odisha',\n",
    "    'PY': 'Puducherry',\n",
    "    'Unknown': 'Unknown'\n",
    "}\n",
    "\n",
    "# Function to map RTO codes to states\n",
    "def rto_to_region(rto_value):\n",
    "    if pd.isna(rto_value):\n",
    "        return 'Unknown'\n",
    "    rto_value_str = str(rto_value)  # Ensure value is string\n",
    "    for prefix in rto_region_mapping:\n",
    "        if rto_value_str.startswith(prefix):\n",
    "            return rto_region_mapping[prefix]\n",
    "    return 'Unknown'\n",
    "\n",
    "# Handle missing RTO values by setting them to 'Unknown'\n",
    "df_outliers_removed['RTO'] = df_outliers_removed['RTO'].fillna('Unknown')\n",
    "\n",
    "# Apply the RTO mapping function and create a new column for regions\n",
    "df_outliers_removed['RTO_region'] = df_outliers_removed['RTO'].apply(rto_to_region)\n",
    "\n",
    "# Drop the original 'RTO' column\n",
    "df_outliers_removed.drop('RTO', axis=1, inplace=True)\n",
    "\n",
    "# Display the modified DataFrame\n",
    "df_outliers_removed.head(1)\n",
    "print(df_outliers_removed['RTO_region'].isna().sum())"
   ]
  },
  {
   "cell_type": "code",
   "execution_count": 207,
   "id": "f45aded2-74bd-42c1-ad2a-d9dfc5d1579e",
   "metadata": {},
   "outputs": [
    {
     "data": {
      "image/png": "[encoded data removed]",
      "text/plain": [
       "<Figure size 1200x800 with 1 Axes>"
      ]
     },
     "metadata": {},
     "output_type": "display_data"
    }
   ],
   "source": [
    "# plotting\n",
    "plt.figure(figsize=(12, 8))\n",
    "average_prices = df_outliers_removed.groupby('RTO_region')['price'].mean().sort_values()\n",
    "average_prices.plot(kind='bar')\n",
    "plt.xticks(rotation=90)\n",
    "plt.title('Average Price by RTO region')\n",
    "plt.xlabel('RTO region')\n",
    "plt.ylabel('Average Price')\n",
    "plt.show()\n"
   ]
  },
  {
   "cell_type": "code",
   "execution_count": 208,
   "id": "5fd13b4a-7466-4c9e-9fa1-fd6b6cc77ee0",
   "metadata": {},
   "outputs": [],
   "source": [
    "# we keep this column because of the mean price difference in each state"
   ]
  },
  {
   "cell_type": "markdown",
   "id": "57f9cd0a-8cda-4b54-9ec8-c31bade6951b",
   "metadata": {},
   "source": [
    "### Color"
   ]
  },
  {
   "cell_type": "code",
   "execution_count": 209,
   "id": "7413b3bc-34eb-41bb-ba5b-0e67a934c95b",
   "metadata": {},
   "outputs": [
    {
     "name": "stdout",
     "output_type": "stream",
     "text": [
      "Color\n",
      "Others                   1939\n",
      "White                    1395\n",
      "Silver                   1170\n",
      "Red                       751\n",
      "Blue                      537\n",
      "                         ... \n",
      "Other                       1\n",
      "O Purple                    1\n",
      "Arctic Silver               1\n",
      "Modern Steel Metallic       1\n",
      "Light Orange                1\n",
      "Name: count, Length: 143, dtype: int64\n",
      "0\n"
     ]
    }
   ],
   "source": [
    "print(df_outliers_removed['Color'].value_counts())\n",
    "print(df_outliers_removed['Color'].isna().sum())"
   ]
  },
  {
   "cell_type": "code",
   "execution_count": 210,
   "id": "bda943be-9464-41e3-8eb4-d8c9c0d3c716",
   "metadata": {},
   "outputs": [
    {
     "data": {
      "text/plain": [
       "Color\n",
       "Other     2034\n",
       "White     1442\n",
       "Silver    1207\n",
       "Red        771\n",
       "Gray       578\n",
       "Blue       549\n",
       "Black      339\n",
       "Brown      258\n",
       "Orange      99\n",
       "Gold        56\n",
       "Green       33\n",
       "Yellow      16\n",
       "Purple       8\n",
       "Bronze       5\n",
       "Name: count, dtype: int64"
      ]
     },
     "execution_count": 210,
     "metadata": {},
     "output_type": "execute_result"
    }
   ],
   "source": [
    "def determine_color(color):\n",
    "    color_lower = color.lower()\n",
    "    \n",
    "    if 'white' in color_lower:\n",
    "        return 'White'\n",
    "    elif 'red' in color_lower or 'wine' in color_lower or 'cherry' in color_lower:\n",
    "        return 'Red'\n",
    "    elif 'blue' in color_lower:\n",
    "        return 'Blue'\n",
    "    elif 'brown' in color_lower:\n",
    "        return 'Brown'\n",
    "    elif 'gold' in color_lower:\n",
    "        return 'Gold'\n",
    "    elif 'green' in color_lower:\n",
    "        return 'Green'\n",
    "    elif 'black' in color_lower:\n",
    "        return 'Black'     \n",
    "    elif 'orange' in color_lower:\n",
    "        return 'Orange'\n",
    "    elif 'yellow' in color_lower:\n",
    "        return 'Yellow'\n",
    "    elif 'bronze' in color_lower:\n",
    "        return 'Bronze'\n",
    "    elif 'purple' in color_lower:\n",
    "        return 'Purple'\n",
    "    elif 'grey' in color_lower or 'gray' in color_lower:\n",
    "        return 'Gray'\n",
    "    elif 'silver' in color_lower or 'metal' in color_lower or 'steel' in color_lower:\n",
    "        return 'Silver'\n",
    "    else:\n",
    "        return 'Other'  # Returns Other if no condition is met\n",
    "\n",
    "# Apply the function to the DataFrame column\n",
    "df_outliers_removed['Color'] = df_outliers_removed['Color'].apply(determine_color)\n",
    "df_outliers_removed['Color'].value_counts()"
   ]
  },
  {
   "cell_type": "code",
   "execution_count": 211,
   "id": "b785e199-7084-4102-b1f7-88e7b4be06c1",
   "metadata": {},
   "outputs": [
    {
     "data": {
      "image/png": "[encoded data removed]",
      "text/plain": [
       "<Figure size 1200x800 with 1 Axes>"
      ]
     },
     "metadata": {},
     "output_type": "display_data"
    }
   ],
   "source": [
    "#plotting\n",
    "plt.figure(figsize=(12, 8))\n",
    "average_prices = df_outliers_removed.groupby('Color')['price'].mean().sort_values()\n",
    "average_prices.plot(kind='bar')\n",
    "plt.xticks(rotation=90)\n",
    "plt.title('Average Price by Color')\n",
    "plt.xlabel('Color')\n",
    "plt.ylabel('Average Price')\n",
    "plt.show()\n"
   ]
  },
  {
   "cell_type": "markdown",
   "id": "e77e7ca3-85d2-4cad-9e52-3d771f9bf2af",
   "metadata": {},
   "source": [
    "### Engine Type"
   ]
  },
  {
   "cell_type": "code",
   "execution_count": 212,
   "id": "2a6d8592-4df8-4f95-ac4e-b5e78c8f5b5a",
   "metadata": {},
   "outputs": [
    {
     "data": {
      "text/plain": [
       "Engine Type\n",
       "Kappa VTVT Petrol Engine      424\n",
       "In-Line Engine                381\n",
       "Petrol Engine                 295\n",
       "i-VTEC Petrol Engine          259\n",
       "i VTEC Engine                 199\n",
       "                             ... \n",
       "1.5L Revotorq Turbocharged      1\n",
       "All Aluminium light weigh       1\n",
       "SD4 Diesel  Engine              1\n",
       "2 cylinder, MPFI                1\n",
       "16V DOHC VTT DICOR              1\n",
       "Name: count, Length: 353, dtype: int64"
      ]
     },
     "execution_count": 212,
     "metadata": {},
     "output_type": "execute_result"
    }
   ],
   "source": [
    "df_outliers_removed['Engine Type'].value_counts()\t"
   ]
  },
  {
   "cell_type": "code",
   "execution_count": 213,
   "id": "f39dfe2a-9cc8-4390-ad59-c4fcd9ddd354",
   "metadata": {},
   "outputs": [],
   "source": [
    "# too many classes exist in this column , and we can use engine displacement and fuel type data instead of this column. so we drop it\n",
    "df_outliers_removed.drop(['Engine Type'],axis=1,inplace=True)"
   ]
  },
  {
   "cell_type": "markdown",
   "id": "2d5da5e6-da9b-4d75-a836-f0b9e66d44e5",
   "metadata": {},
   "source": [
    "### Fuel Suppy System"
   ]
  },
  {
   "cell_type": "code",
   "execution_count": 214,
   "id": "3650bf61-4242-4d81-859b-085db1639953",
   "metadata": {},
   "outputs": [
    {
     "data": {
      "text/plain": [
       "Fuel Suppy System\n",
       "MPFI                                  1959\n",
       "MPFi                                   797\n",
       "CRDi                                   748\n",
       "CRDI                                   715\n",
       "Direct Injection                       595\n",
       "PGM-Fi                                 199\n",
       "PGM - Fi                               155\n",
       "GDi                                    111\n",
       "Common Rail                             68\n",
       "EFI                                     64\n",
       "EFI(Electronic Fuel Injection)          61\n",
       "TSI                                     56\n",
       "MPI                                     47\n",
       "MPi                                     38\n",
       "PGM-FI (Programmed Fuel Injection)      37\n",
       "SEFI                                    33\n",
       "MPFI                                    33\n",
       "EFI (Electronic Fuel Injection)         26\n",
       "Direct Injection                        25\n",
       "Electronic Injection System             15\n",
       "PGM-FI                                  13\n",
       "Multi-point injection                   11\n",
       "TDCi                                    11\n",
       "CDI                                     11\n",
       "MPFI+LPG                                 9\n",
       "Multi Point Fuel Injection               9\n",
       "DDIS                                     7\n",
       "Common rail direct injection             6\n",
       "Electronic Fuel Injection                5\n",
       "GDI                                      5\n",
       "Multipoint Injection                     5\n",
       "PGM-FI (Programmed Fuel Inje             4\n",
       "Indirect Injection                       4\n",
       "Electronic Fuel Injection(EFI)           4\n",
       "DPFi                                     4\n",
       "Common Rail Direct Injection (dCi)       4\n",
       "EGIS                                     4\n",
       "TGDi                                     3\n",
       "Gasoline Direct Injection                3\n",
       "Mpfi                                     2\n",
       "DEDST                                    2\n",
       "MPFI+CNG                                 2\n",
       "CNG                                      2\n",
       "Common Rail                              2\n",
       "Common Rail Diesel                       2\n",
       "Common Rail Direct Injection             1\n",
       "gasoline direct injection                1\n",
       "EFI (Electronic Fuel Injection           1\n",
       "Intelligent-Gas Port Injection           1\n",
       "TDi                                      1\n",
       "PGM-FI (Programmed Fuel Inject           1\n",
       "IDI                                      1\n",
       "DOHC                                     1\n",
       "common rail system                       1\n",
       "Dual VVT-i                               1\n",
       "Multi point Fuel Injection               1\n",
       "Ti-VCT                                   1\n",
       "Direct Injectio                          1\n",
       "Name: count, dtype: int64"
      ]
     },
     "execution_count": 214,
     "metadata": {},
     "output_type": "execute_result"
    }
   ],
   "source": [
    "df_outliers_removed['Fuel Suppy System'].value_counts()\t"
   ]
  },
  {
   "cell_type": "code",
   "execution_count": 215,
   "id": "6184abda-a7ee-45e4-8a73-0553df33bd93",
   "metadata": {},
   "outputs": [],
   "source": [
    "df_outliers_removed.drop(['Fuel Suppy System'],axis=1,inplace=True)"
   ]
  },
  {
   "cell_type": "code",
   "execution_count": 216,
   "id": "e5249f85-7108-4998-9bc1-8f5b80aacee7",
   "metadata": {},
   "outputs": [],
   "source": [
    "# too many classes exist in this column, so we drop it \n",
    "# we can use other columns like fuel type and transmission"
   ]
  },
  {
   "cell_type": "markdown",
   "id": "b208a706-dd11-470e-b885-59bffd051138",
   "metadata": {},
   "source": [
    "### Turbo Charger and Super Charger"
   ]
  },
  {
   "cell_type": "code",
   "execution_count": 217,
   "id": "e3a08ae1-d57f-4f88-82f4-5d573a3e46b6",
   "metadata": {},
   "outputs": [
    {
     "name": "stdout",
     "output_type": "stream",
     "text": [
      "Turbo Charger\n",
      "No       3978\n",
      "Yes      2440\n",
      "Twin       21\n",
      "NO         20\n",
      "YES        15\n",
      "no          8\n",
      "Turbo       1\n",
      "yes         1\n",
      "Name: count, dtype: int64\n",
      "911\n",
      "\n",
      " Super Charger\n",
      "No     5695\n",
      "Yes       6\n",
      "NO        2\n",
      "Name: count, dtype: int64\n",
      "1692\n"
     ]
    }
   ],
   "source": [
    "print(df_outliers_removed['Turbo Charger'].value_counts())\n",
    "print(df_outliers_removed['Turbo Charger'].isna().sum())\n",
    "print('\\n',df_outliers_removed['Super Charger'].value_counts())\n",
    "print(df_outliers_removed['Super Charger'].isna().sum())"
   ]
  },
  {
   "cell_type": "code",
   "execution_count": 218,
   "id": "4c03f8af-d28c-4502-89af-57e3d45f1fff",
   "metadata": {},
   "outputs": [],
   "source": [
    "# in super charger more than 90% values are No and there are many null values so we drop it and use Turbo charger column instead\n",
    "df_outliers_removed.drop('Super Charger',axis=1,inplace=True)"
   ]
  },
  {
   "cell_type": "code",
   "execution_count": 219,
   "id": "41bb598d-0137-4824-bc34-551ba9f5cc12",
   "metadata": {},
   "outputs": [
    {
     "name": "stdout",
     "output_type": "stream",
     "text": [
      "Turbo Charger\n",
      "False    4917\n",
      "True     2478\n",
      "Name: count, dtype: int64\n",
      "0\n"
     ]
    },
    {
     "name": "stderr",
     "output_type": "stream",
     "text": [
      "C:\\Users\\saina\\AppData\\Local\\Temp\\ipykernel_3228\\487717842.py:15: FutureWarning: Downcasting object dtype arrays on .fillna, .ffill, .bfill is deprecated and will change in a future version. Call result.infer_objects(copy=False) instead. To opt-in to the future behavior, set `pd.set_option('future.no_silent_downcasting', True)`\n",
      "  df_outliers_removed['Turbo Charger'] = df_outliers_removed['Turbo Charger'].map(mapping).fillna(False)\n"
     ]
    }
   ],
   "source": [
    "# we convert values into boolean values \n",
    "# we are filling False if the value is missing(null)\n",
    "mapping = {\n",
    "    'No':False,\n",
    "    'NO':False,\n",
    "    'no':False,\n",
    "    None:False,\n",
    "\n",
    "    'Yes':True,\n",
    "    'YES':True,\n",
    "    'yes':True,\n",
    "    'Turbo':True,\n",
    "    'Twin':True,\n",
    "}\n",
    "df_outliers_removed['Turbo Charger'] = df_outliers_removed['Turbo Charger'].map(mapping).fillna(False)\n",
    "\n",
    "print(df_outliers_removed['Turbo Charger'].value_counts())\n",
    "print(df_outliers_removed['Turbo Charger'].isna().sum())\n",
    "\n",
    "\n"
   ]
  },
  {
   "cell_type": "code",
   "execution_count": 220,
   "id": "e0310872-8f12-4ad2-a004-c35758ac366c",
   "metadata": {},
   "outputs": [
    {
     "data": {
      "image/png": "[encoded data removed]",
      "text/plain": [
       "<Figure size 1200x800 with 1 Axes>"
      ]
     },
     "metadata": {},
     "output_type": "display_data"
    }
   ],
   "source": [
    "#plotting\n",
    "plt.figure(figsize=(12, 8))\n",
    "average_prices = df_outliers_removed.groupby('Turbo Charger')['price'].mean().sort_values()\n",
    "average_prices.plot(kind='bar')\n",
    "plt.xticks(rotation=90)\n",
    "plt.title('Average Price by Turbo Charger Type')\n",
    "plt.xlabel('Turbo Charger')\n",
    "plt.ylabel('Average Price')\n",
    "plt.show()"
   ]
  },
  {
   "cell_type": "markdown",
   "id": "37ef6480-26b0-4950-af0e-918876f669cc",
   "metadata": {},
   "source": [
    "### Gear Box"
   ]
  },
  {
   "cell_type": "code",
   "execution_count": 221,
   "id": "77786286-69fc-41f2-a218-f8495634698d",
   "metadata": {},
   "outputs": [
    {
     "name": "stdout",
     "output_type": "stream",
     "text": [
      "Gear Box\n",
      "5 Speed                             4154\n",
      "6 Speed                              941\n",
      "5-Speed                              509\n",
      "6-Speed                              217\n",
      "7 Speed                              202\n",
      "                                    ... \n",
      "6Speed                                 1\n",
      "8-Speed Automatic Transmission         1\n",
      "6-speed iMT                            1\n",
      "Six Speed Automatic Transmission       1\n",
      "10 speed                               1\n",
      "Name: count, Length: 72, dtype: int64\n",
      "50\n"
     ]
    }
   ],
   "source": [
    "print(df_outliers_removed['Gear Box'].value_counts())\n",
    "print(df_outliers_removed['Gear Box'].isna().sum())"
   ]
  },
  {
   "cell_type": "code",
   "execution_count": 222,
   "id": "350e7b87-2f25-4bdd-8544-6b4c80238374",
   "metadata": {},
   "outputs": [],
   "source": [
    "# this parameter is not very necessary as we already have Transmission and fuel type columns\n",
    "# also this column has 92 classes which is too many \n",
    "df_outliers_removed.drop('Gear Box',axis=1,inplace=True)"
   ]
  },
  {
   "cell_type": "markdown",
   "id": "42fce9a4-a004-4df2-9567-bc4837c3d777",
   "metadata": {},
   "source": [
    "### Drive Type"
   ]
  },
  {
   "cell_type": "code",
   "execution_count": 223,
   "id": "8292ac32-185f-425f-ba76-7df3939bc574",
   "metadata": {},
   "outputs": [
    {
     "name": "stdout",
     "output_type": "stream",
     "text": [
      "Drive Type\n",
      "FWD                                  5183\n",
      "RWD                                   301\n",
      "2WD                                   117\n",
      "AWD                                   109\n",
      "4X2                                    67\n",
      "2 WD                                   45\n",
      "4X4                                    41\n",
      "4WD                                    41\n",
      "Front Wheel Drive                      38\n",
      "FWD                                    34\n",
      "4x2                                    15\n",
      "Two Wheel Drive                        14\n",
      "4x4                                    11\n",
      "Rear Wheel Drive with ESP               6\n",
      "All Wheel Drive                         2\n",
      "Permanent all-wheel drive quattro       2\n",
      "2WD                                     1\n",
      "4 WD                                    1\n",
      "Name: count, dtype: int64\n",
      "1367\n"
     ]
    }
   ],
   "source": [
    "print(df_outliers_removed['Drive Type'].value_counts())\n",
    "print(df_outliers_removed['Drive Type'].isna().sum())"
   ]
  },
  {
   "cell_type": "code",
   "execution_count": 224,
   "id": "b558d8e2-27f0-47fa-ade5-fd9494b6c4c1",
   "metadata": {},
   "outputs": [
    {
     "data": {
      "text/plain": [
       "Drive_Type_Classified\n",
       "2WD        5387\n",
       "Unknown    1499\n",
       "AWD/4WD     509\n",
       "Name: count, dtype: int64"
      ]
     },
     "execution_count": 224,
     "metadata": {},
     "output_type": "execute_result"
    }
   ],
   "source": [
    "# Define a function to classify Drive Type into three categories\n",
    "def classify_drive_type(drive):\n",
    "    if isinstance(drive, str):  # Check if 'drive' is a string\n",
    "        drive = drive.lower()  # Convert to lowercase for consistency\n",
    "        if 'fwd' in drive or 'front' in drive or 'two wheel' in drive or '2wd' in drive:\n",
    "            return '2WD'\n",
    "        elif 'awd' in drive or '4wd' in drive or '4x4' in drive or 'rwd' in drive or 'rear' in drive:\n",
    "            return 'AWD/4WD'\n",
    "    # Handle missing or unclassified values by returning 'Unknown'\n",
    "    return 'Unknown'\n",
    "\n",
    "# Apply the classification function to the 'Drive Type' column\n",
    "df_outliers_removed['Drive_Type_Classified'] = df_outliers_removed['Drive Type'].apply(classify_drive_type)\n",
    "\n",
    "# Verify the result\n",
    "df_outliers_removed['Drive_Type_Classified'].value_counts()\n"
   ]
  },
  {
   "cell_type": "code",
   "execution_count": 225,
   "id": "d86b03ef-4890-4c04-9328-b9fb9177f4e7",
   "metadata": {},
   "outputs": [
    {
     "data": {
      "image/png": "[encoded data removed]",
      "text/plain": [
       "<Figure size 1200x800 with 1 Axes>"
      ]
     },
     "metadata": {},
     "output_type": "display_data"
    }
   ],
   "source": [
    "plt.figure(figsize=(12, 8))\n",
    "average_prices = df_outliers_removed.groupby('Drive_Type_Classified')['price'].mean().sort_values()\n",
    "average_prices.plot(kind='bar')\n",
    "plt.xticks(rotation=90)\n",
    "plt.title('Average Price by Turbo Charger')\n",
    "plt.xlabel('Turbo Charger')\n",
    "plt.ylabel('Average Price')\n",
    "plt.show()"
   ]
  },
  {
   "cell_type": "code",
   "execution_count": 226,
   "id": "38803c99-bb87-4807-b41a-644c4055b895",
   "metadata": {},
   "outputs": [],
   "source": [
    "# drop the old column\n",
    "df_outliers_removed.drop(['Drive Type'],axis=1,inplace=True)"
   ]
  },
  {
   "cell_type": "code",
   "execution_count": null,
   "id": "21110b5a-4908-4b88-a492-37ee9435e09c",
   "metadata": {},
   "outputs": [],
   "source": []
  },
  {
   "cell_type": "markdown",
   "id": "b9d0d99a-d310-472d-aecd-1b7ca11fda50",
   "metadata": {},
   "source": [
    "### Steering Type"
   ]
  },
  {
   "cell_type": "code",
   "execution_count": 227,
   "id": "c2499ae1-6260-406d-9052-4edcd0265b8a",
   "metadata": {},
   "outputs": [
    {
     "name": "stdout",
     "output_type": "stream",
     "text": [
      "Steering Type\n",
      "Power         5631\n",
      "Electric      1320\n",
      "Electronic     102\n",
      "Manual          58\n",
      "Electrical      39\n",
      "power           29\n",
      "EPAS             9\n",
      "Name: count, dtype: int64\n",
      "207\n"
     ]
    }
   ],
   "source": [
    "print(df_outliers_removed['Steering Type'].value_counts())\n",
    "print(df_outliers_removed['Steering Type'].isna().sum())"
   ]
  },
  {
   "cell_type": "code",
   "execution_count": 228,
   "id": "58ee026f-01ac-434d-863c-c81e0baf719a",
   "metadata": {},
   "outputs": [
    {
     "data": {
      "text/plain": [
       "Steering_Type_Classified\n",
       "Power       5867\n",
       "Electric    1470\n",
       "Manual        58\n",
       "Name: count, dtype: int64"
      ]
     },
     "execution_count": 228,
     "metadata": {},
     "output_type": "execute_result"
    }
   ],
   "source": [
    "# Define a function to classify Steering Type into three categories\n",
    "def classify_steering_type(steering):\n",
    "    if isinstance(steering, str):  # Ensure it's a string\n",
    "        steering = steering.lower()  # Convert to lowercase\n",
    "        if 'power' in steering:\n",
    "            return 'Power'\n",
    "        elif 'electric' in steering or 'epas' in steering or 'electronic' in steering:\n",
    "            return 'Electric'\n",
    "        elif 'manual' in steering:\n",
    "            return 'Manual'\n",
    "    # Handle missing or unclassified values by returning 'Power'\n",
    "    return 'Power'\n",
    "\n",
    "# Apply the classification function to the 'Steering Type' column\n",
    "df_outliers_removed['Steering_Type_Classified'] = df_outliers_removed['Steering Type'].apply(classify_steering_type)\n",
    "\n",
    "# Verify the result\n",
    "df_outliers_removed['Steering_Type_Classified'].value_counts()\n"
   ]
  },
  {
   "cell_type": "code",
   "execution_count": 229,
   "id": "9ce46112-d803-4467-a01d-c74a143bb43d",
   "metadata": {},
   "outputs": [
    {
     "data": {
      "image/png": "[encoded data removed]",
      "text/plain": [
       "<Figure size 1200x800 with 1 Axes>"
      ]
     },
     "metadata": {},
     "output_type": "display_data"
    }
   ],
   "source": [
    "plt.figure(figsize=(12, 8))\n",
    "average_prices = df_outliers_removed.groupby('Steering_Type_Classified')['price'].mean().sort_values()\n",
    "average_prices.plot(kind='bar')\n",
    "plt.xticks(rotation=90)\n",
    "plt.title('Average Price by Steering_Type')\n",
    "plt.xlabel('Steering_Type')\n",
    "plt.ylabel('Average Price')\n",
    "plt.show()"
   ]
  },
  {
   "cell_type": "code",
   "execution_count": 230,
   "id": "f642853b-4240-4f26-91e9-686f4c5f5d02",
   "metadata": {},
   "outputs": [],
   "source": [
    "# here power and electric show almost similar behaviour with respect to price and rowws with manual are significantly less. \n",
    "# so we can drop this column\n",
    "df_outliers_removed.drop(['Steering_Type_Classified','Steering Type'],axis=1,inplace=True)"
   ]
  },
  {
   "cell_type": "code",
   "execution_count": null,
   "id": "cee2bb8a-49cc-429b-934d-1a7804cbf7ec",
   "metadata": {},
   "outputs": [],
   "source": []
  },
  {
   "cell_type": "markdown",
   "id": "a03a731b-420f-4e4a-b5e9-df6a42b535fb",
   "metadata": {},
   "source": [
    "### Front Brake Type , Rear Brake Type"
   ]
  },
  {
   "cell_type": "code",
   "execution_count": 231,
   "id": "59aea756-2f21-40ac-8b09-470f62d3acc0",
   "metadata": {},
   "outputs": [
    {
     "name": "stdout",
     "output_type": "stream",
     "text": [
      "Front Brake Type\n",
      "Disc                                        4834\n",
      "Ventilated Disc                             2176\n",
      "Disc                                          70\n",
      "Solid Disc                                    63\n",
      "Ventilated Discs                              50\n",
      "Disc & Caliper Type                           40\n",
      "Disk                                          23\n",
      "Ventilated Disc                               23\n",
      "Ventilated Disk                               11\n",
      "disc                                           7\n",
      "Ventilated discs                               6\n",
      "Drum                                           6\n",
      " Disc                                          6\n",
      "Multilateral Disc                              6\n",
      "Ventlated Disc                                 6\n",
      "Vantilated Disc                                5\n",
      "Ventilated DIsc                                5\n",
      "Ventillated Disc                               3\n",
      " Ventilated Disc                               2\n",
      "Vacuum assisted hydraulic dual circuit w       2\n",
      "Ventilated disc                                1\n",
      "ABS                                            1\n",
      "Disc brakes                                    1\n",
      "Name: count, dtype: int64\n",
      "\n",
      " Rear Brake Type\n",
      "Drum                                        6057\n",
      "Disc                                         880\n",
      "Solid Disc                                   110\n",
      "Discs                                         83\n",
      "Ventilated Disc                               61\n",
      "Disc & Caliper Type                           40\n",
      "Self-Adjusting Drum                           19\n",
      "Leading-Trailing Drum                         17\n",
      "Ventilated Discs                              17\n",
      "Leading & Trailing Drum                       14\n",
      "Disc & Drum                                    7\n",
      "Drum                                           6\n",
      "Ventilated discs                               6\n",
      "disc                                           5\n",
      "Solid Disc                                     5\n",
      "Drums                                          5\n",
      "Drum`                                          3\n",
      "self adjusting drums                           3\n",
      "Self Adjusting Drums                           2\n",
      "Ventialte Disc                                 2\n",
      "drum                                           2\n",
      "Vacuum assisted hydraulic dual circuit w       2\n",
      "Self Adjusting Drum                            1\n",
      "Name: count, dtype: int64\n"
     ]
    }
   ],
   "source": [
    "print(df_outliers_removed['Front Brake Type'].value_counts())\n",
    "\n",
    "print('\\n',df_outliers_removed['Rear Brake Type'].value_counts())\n"
   ]
  },
  {
   "cell_type": "code",
   "execution_count": 232,
   "id": "7da55265-7654-4320-995a-f95aea712e06",
   "metadata": {},
   "outputs": [],
   "source": [
    "# The Steering Type feature has too many categories and doesn’t really affect car prices, so we should remove it.\n",
    "# There are very few instances of Drum (5) and ABS (2) compared to Disc, which constitutes over 90% of the data, making them unlikely to benefit our model.\n",
    "\n",
    "df_outliers_removed.drop(['Front Brake Type','Rear Brake Type'],axis=1,inplace=True)"
   ]
  },
  {
   "cell_type": "code",
   "execution_count": null,
   "id": "7b139b52-366f-4fb6-8b9b-d5d4b770ec1a",
   "metadata": {},
   "outputs": [],
   "source": []
  },
  {
   "cell_type": "markdown",
   "id": "80a10e7a-d884-43b0-914a-46011046c683",
   "metadata": {},
   "source": [
    "### Tyre Type"
   ]
  },
  {
   "cell_type": "code",
   "execution_count": 233,
   "id": "e1dfd421-4504-41d7-bdad-2c2af0375bc1",
   "metadata": {},
   "outputs": [
    {
     "data": {
      "text/plain": [
       "Tyre Type\n",
       "Tubeless,Radial           3811\n",
       "Tubeless, Radial          1318\n",
       "Tubeless                  1117\n",
       "Tubeless Tyres             391\n",
       "Radial, Tubeless           216\n",
       "Radial                     117\n",
       "Radial, Tubless             82\n",
       "Tubeless Tyres, Radial      54\n",
       "Tubeless Radial Tyres       50\n",
       "Tubeless,Radial             50\n",
       "Radial,Tubeless             31\n",
       "Tubeless,Radials            27\n",
       "Tubless, Radial             24\n",
       "tubeless tyre               14\n",
       "Runflat                     12\n",
       "Run-Flat                    12\n",
       "Tubeless, Runflat            7\n",
       "Tubeless                     7\n",
       "Radial Tubeless              4\n",
       "Tubeless Radials Tyre        3\n",
       "Tubeless,Runflat             3\n",
       "Tubeless Tyre                2\n",
       "Runflat Tyres                2\n",
       "Radial Tyres                 1\n",
       "Tubeless, Radials            1\n",
       "Name: count, dtype: int64"
      ]
     },
     "execution_count": 233,
     "metadata": {},
     "output_type": "execute_result"
    }
   ],
   "source": [
    "df_outliers_removed['Tyre Type'].value_counts()"
   ]
  },
  {
   "cell_type": "code",
   "execution_count": 234,
   "id": "f5daa4cb-793e-42cf-996a-a9ad995278b5",
   "metadata": {},
   "outputs": [],
   "source": [
    "# most of the rows seem to have the same tyres Tubeless or Radical. Since the whole column have the same data we can drop it \n",
    "df_outliers_removed.drop(['Tyre Type'],axis=1,inplace=True)"
   ]
  },
  {
   "cell_type": "markdown",
   "id": "fe5a661d-771e-4188-b599-433d36e40fdd",
   "metadata": {},
   "source": [
    "### Location"
   ]
  },
  {
   "cell_type": "code",
   "execution_count": 235,
   "id": "623a0cc7-22c3-4ec4-8aaa-36eff82ae121",
   "metadata": {},
   "outputs": [
    {
     "data": {
      "text/plain": [
       "Location\n",
       "hyderabad    1338\n",
       "Bangalore    1307\n",
       "Chennai      1276\n",
       "Delhi        1241\n",
       "Kolkata      1240\n",
       "Jaipur        993\n",
       "Name: count, dtype: int64"
      ]
     },
     "execution_count": 235,
     "metadata": {},
     "output_type": "execute_result"
    }
   ],
   "source": [
    "df_outliers_removed['Location'].value_counts()\t"
   ]
  },
  {
   "cell_type": "code",
   "execution_count": 236,
   "id": "b480c627-f3f2-4b4f-8106-b0e0331b98a0",
   "metadata": {},
   "outputs": [
    {
     "data": {
      "image/png": "[encoded data removed]",
      "text/plain": [
       "<Figure size 1200x800 with 1 Axes>"
      ]
     },
     "metadata": {},
     "output_type": "display_data"
    }
   ],
   "source": [
    "# this is the column which we have added based on the excel files \n",
    "# lets see the relationship with mean price\n",
    "plt.figure(figsize=(12, 8))\n",
    "average_prices = df_outliers_removed.groupby('Location')['price'].mean().sort_values()\n",
    "average_prices.plot(kind='bar')\n",
    "plt.xticks(rotation=90)\n",
    "plt.title('Average Price by Location')\n",
    "plt.xlabel('Location')\n",
    "plt.ylabel('Average Price')\n",
    "plt.show()"
   ]
  },
  {
   "cell_type": "code",
   "execution_count": 237,
   "id": "542fd73f-ac98-45eb-829f-e0396133c110",
   "metadata": {},
   "outputs": [],
   "source": [
    "# there is change with respect to location , so we use it "
   ]
  },
  {
   "cell_type": "code",
   "execution_count": 238,
   "id": "63187087-e851-40b3-ad8c-ac3892811d67",
   "metadata": {},
   "outputs": [
    {
     "data": {
      "text/plain": [
       "ft                       0\n",
       "bt                       0\n",
       "km                       0\n",
       "transmission             0\n",
       "ownerNo                  0\n",
       "company                  0\n",
       "model                    0\n",
       "modelYear                0\n",
       "price                    0\n",
       "Insurance Validity       0\n",
       "Mileage                  0\n",
       "Color                    0\n",
       "Displacement             0\n",
       "Turbo Charger            0\n",
       "Location                 0\n",
       "RTO_region               0\n",
       "Drive_Type_Classified    0\n",
       "dtype: int64"
      ]
     },
     "execution_count": 238,
     "metadata": {},
     "output_type": "execute_result"
    }
   ],
   "source": [
    "df_outliers_removed.isna().sum()"
   ]
  },
  {
   "cell_type": "code",
   "execution_count": 239,
   "id": "0a2ace41-7843-4583-98b8-accccedbfb80",
   "metadata": {},
   "outputs": [],
   "source": [
    "df_outliers_removed.to_excel('Preprocessed_data.xlsx',index=False"
   ]
  },
  {
   "cell_type": "code",
   "execution_count": 242,
   "id": "e12ba3c7-acff-4326-9fdb-f42da6a4decf",
   "metadata": {},
   "outputs": [
    {
     "data": {
      "text/html": [
       "<div>\n",
       "<style scoped>\n",
       "    .dataframe tbody tr th:only-of-type {\n",
       "        vertical-align: middle;\n",
       "    }\n",
       "\n",
       "    .dataframe tbody tr th {\n",
       "        vertical-align: top;\n",
       "    }\n",
       "\n",
       "    .dataframe thead th {\n",
       "        text-align: right;\n",
       "    }\n",
       "</style>\n",
       "<table border=\"1\" class=\"dataframe\">\n",
       "  <thead>\n",
       "    <tr style=\"text-align: right;\">\n",
       "      <th></th>\n",
       "      <th>ft</th>\n",
       "      <th>bt</th>\n",
       "      <th>km</th>\n",
       "      <th>transmission</th>\n",
       "      <th>ownerNo</th>\n",
       "      <th>company</th>\n",
       "      <th>model</th>\n",
       "      <th>modelYear</th>\n",
       "      <th>price</th>\n",
       "      <th>Insurance Validity</th>\n",
       "      <th>Mileage</th>\n",
       "      <th>Color</th>\n",
       "      <th>Displacement</th>\n",
       "      <th>Turbo Charger</th>\n",
       "      <th>Location</th>\n",
       "      <th>RTO_region</th>\n",
       "      <th>Drive_Type_Classified</th>\n",
       "    </tr>\n",
       "  </thead>\n",
       "  <tbody>\n",
       "    <tr>\n",
       "      <th>0</th>\n",
       "      <td>Petrol</td>\n",
       "      <td>Hatchback</td>\n",
       "      <td>20000.0</td>\n",
       "      <td>Automatic</td>\n",
       "      <td>1</td>\n",
       "      <td>Volkswagen</td>\n",
       "      <td>Volkswagen Polo</td>\n",
       "      <td>2022</td>\n",
       "      <td>1044000.0</td>\n",
       "      <td>Third Party insurance</td>\n",
       "      <td>16.47</td>\n",
       "      <td>Other</td>\n",
       "      <td>999.0</td>\n",
       "      <td>True</td>\n",
       "      <td>hyderabad</td>\n",
       "      <td>Unknown</td>\n",
       "      <td>2WD</td>\n",
       "    </tr>\n",
       "  </tbody>\n",
       "</table>\n",
       "</div>"
      ],
      "text/plain": [
       "       ft         bt       km transmission  ownerNo     company  \\\n",
       "0  Petrol  Hatchback  20000.0    Automatic        1  Volkswagen   \n",
       "\n",
       "             model  modelYear      price     Insurance Validity  Mileage  \\\n",
       "0  Volkswagen Polo       2022  1044000.0  Third Party insurance    16.47   \n",
       "\n",
       "   Color  Displacement  Turbo Charger   Location RTO_region  \\\n",
       "0  Other         999.0           True  hyderabad    Unknown   \n",
       "\n",
       "  Drive_Type_Classified  \n",
       "0                   2WD  "
      ]
     },
     "execution_count": 242,
     "metadata": {},
     "output_type": "execute_result"
    }
   ],
   "source": [
    "df_outliers_removed.head(1)"
   ]
  },
  {
   "cell_type": "markdown",
   "id": "b60ea8f8-b85d-4ebe-9c7b-38b5a9850b16",
   "metadata": {},
   "source": [
    "# 3. Preparing Models"
   ]
  },
  {
   "cell_type": "code",
   "execution_count": null,
   "id": "1b30e196-2b04-42f2-affc-5e7ca2d523de",
   "metadata": {},
   "outputs": [],
   "source": []
  },
  {
   "cell_type": "code",
   "execution_count": null,
   "id": "40d555af-3e9f-42f3-93a1-50a624690101",
   "metadata": {},
   "outputs": [],
   "source": []
  },
  {
   "cell_type": "markdown",
   "id": "1744c001-3d73-4234-a816-baa7e925e7cb",
   "metadata": {},
   "source": [
    "## Linear Regression , Decision Trees, Random Forest , XG Boost \n",
    "### Trying these models for our dataset"
   ]
  },
  {
   "cell_type": "code",
   "execution_count": 243,
   "id": "233a07c6-321b-483c-9904-35539bbdfb69",
   "metadata": {},
   "outputs": [
    {
     "name": "stdout",
     "output_type": "stream",
     "text": [
      "Training data shape: (5916, 204)\n",
      "Testing data shape: (1479, 204)\n",
      "                            Train MSE      Train MAE  Train R2  Train MAPE  \\\n",
      "Random Forest            3.829478e+09   32994.828987  0.990559    5.050028   \n",
      "XGBoost Regressor        5.147022e+09   48864.439211  0.987311    8.409458   \n",
      "Decision Tree Regressor  1.646138e+08     650.101420  0.999594    0.059475   \n",
      "Linear Regression        5.643059e+10  132322.425405  0.860877   24.712700   \n",
      "\n",
      "                             Test MSE       Test MAE   Test R2  Test MAPE  \n",
      "Random Forest            2.759066e+10   86998.934298  0.937580  13.030234  \n",
      "XGBoost Regressor        2.391558e+10   82597.844905  0.945895  12.754370  \n",
      "Decision Tree Regressor  4.245338e+10  113295.711291  0.903956  16.990215  \n",
      "Linear Regression        6.386995e+10  141635.483921  0.855504  24.790534  \n"
     ]
    }
   ],
   "source": [
    "import pandas as pd\n",
    "from sklearn.model_selection import train_test_split, cross_val_score\n",
    "from sklearn.linear_model import LinearRegression\n",
    "from sklearn.tree import DecisionTreeRegressor\n",
    "from sklearn.ensemble import RandomForestRegressor\n",
    "from xgboost import XGBRegressor\n",
    "from sklearn.metrics import mean_squared_error, mean_absolute_error, r2_score, mean_absolute_percentage_error\n",
    "import numpy as np\n",
    "\n",
    "# Load the dataset\n",
    "df_cars = pd.read_excel('Preprocessed_data.xlsx')\n",
    "\n",
    "# Identify categorical and numerical columns\n",
    "cat_features = df_cars.select_dtypes(include=['object']).columns\n",
    "num_features = df_cars.select_dtypes(include=['number']).columns\n",
    "\n",
    "# Separate features (X) and target (y)\n",
    "X = df_cars.drop('price', axis=1)\n",
    "y = df_cars['price']\n",
    "\n",
    "# Encode categorical features\n",
    "X_encoded = pd.get_dummies(X, columns=cat_features, drop_first=True)\n",
    "\n",
    "# Split into training and testing sets\n",
    "X_train, X_test, y_train, y_test = train_test_split(X_encoded, y, test_size=0.2, random_state=42, shuffle=True)\n",
    "\n",
    "print(f\"Training data shape: {X_train.shape}\")\n",
    "print(f\"Testing data shape: {X_test.shape}\")\n",
    "\n",
    "# Define models\n",
    "regressors = {\n",
    "    'Random Forest': RandomForestRegressor(),\n",
    "    'XGBoost Regressor': XGBRegressor(),\n",
    "    'Decision Tree Regressor': DecisionTreeRegressor(),\n",
    "    'Linear Regression': LinearRegression()\n",
    "}\n",
    "\n",
    "# Store model performance results\n",
    "performance_results = {}\n",
    "\n",
    "# Loop through each model\n",
    "for model_name, model in regressors.items():\n",
    "    # Train the model\n",
    "    model.fit(X_train, y_train)\n",
    "    \n",
    "    # Predictions\n",
    "    train_preds = model.predict(X_train)\n",
    "    test_preds = model.predict(X_test)\n",
    "    \n",
    "    # Compute performance metrics for training and testing sets\n",
    "    metrics = {\n",
    "        'Train MSE': mean_squared_error(y_train, train_preds),\n",
    "        'Train MAE': mean_absolute_error(y_train, train_preds),\n",
    "        'Train R2': r2_score(y_train, train_preds),\n",
    "        'Train MAPE': mean_absolute_percentage_error(y_train, train_preds) * 100,\n",
    "        'Test MSE': mean_squared_error(y_test, test_preds),\n",
    "        'Test MAE': mean_absolute_error(y_test, test_preds),\n",
    "        'Test R2': r2_score(y_test, test_preds),\n",
    "        'Test MAPE': mean_absolute_percentage_error(y_test, test_preds) * 100\n",
    "    }\n",
    "    \n",
    "    performance_results[model_name] = metrics\n",
    "\n",
    "# Convert results to DataFrame\n",
    "results_df = pd.DataFrame(performance_results).T\n",
    "\n",
    "# Display results\n",
    "print(results_df)\n"
   ]
  },
  {
   "cell_type": "code",
   "execution_count": 245,
   "id": "c05968ef-f7ff-4426-94f0-9497a3006546",
   "metadata": {},
   "outputs": [],
   "source": [
    "# Random Forest and XGBoost were the best working models on test data based on MSE, MAE and R2 scores\n",
    "#The XGBoost Regressor has a lower Test MSE, MAE, and MAPE, and a higher R² score compared to the Random Forest model, making it the best-performing model in this evaluation.\n",
    "# The Random Forest model is the second-best based on its relatively good performance metrics.\n"
   ]
  },
  {
   "cell_type": "code",
   "execution_count": 247,
   "id": "86821a1a-9d76-4a94-8634-79e26a6e85f7",
   "metadata": {},
   "outputs": [
    {
     "name": "stdout",
     "output_type": "stream",
     "text": [
      "Fitting 5 folds for each of 100 candidates, totalling 500 fits\n"
     ]
    },
    {
     "name": "stderr",
     "output_type": "stream",
     "text": [
      "C:\\Users\\saina\\anaconda3\\Lib\\site-packages\\sklearn\\model_selection\\_validation.py:547: FitFailedWarning: \n",
      "260 fits failed out of a total of 500.\n",
      "The score on these train-test partitions for these parameters will be set to nan.\n",
      "If these failures are not expected, you can try to debug them by setting error_score='raise'.\n",
      "\n",
      "Below are more details about the failures:\n",
      "--------------------------------------------------------------------------------\n",
      "44 fits failed with the following error:\n",
      "Traceback (most recent call last):\n",
      "  File \"C:\\Users\\saina\\anaconda3\\Lib\\site-packages\\sklearn\\model_selection\\_validation.py\", line 895, in _fit_and_score\n",
      "    estimator.fit(X_train, y_train, **fit_params)\n",
      "  File \"C:\\Users\\saina\\anaconda3\\Lib\\site-packages\\sklearn\\base.py\", line 1467, in wrapper\n",
      "    estimator._validate_params()\n",
      "  File \"C:\\Users\\saina\\anaconda3\\Lib\\site-packages\\sklearn\\base.py\", line 666, in _validate_params\n",
      "    validate_parameter_constraints(\n",
      "  File \"C:\\Users\\saina\\anaconda3\\Lib\\site-packages\\sklearn\\utils\\_param_validation.py\", line 95, in validate_parameter_constraints\n",
      "    raise InvalidParameterError(\n",
      "sklearn.utils._param_validation.InvalidParameterError: The 'max_features' parameter of RandomForestRegressor must be an int in the range [1, inf), a float in the range (0.0, 1.0], a str among {'log2', 'sqrt'} or None. Got 'auto' instead.\n",
      "\n",
      "--------------------------------------------------------------------------------\n",
      "216 fits failed with the following error:\n",
      "Traceback (most recent call last):\n",
      "  File \"C:\\Users\\saina\\anaconda3\\Lib\\site-packages\\sklearn\\model_selection\\_validation.py\", line 895, in _fit_and_score\n",
      "    estimator.fit(X_train, y_train, **fit_params)\n",
      "  File \"C:\\Users\\saina\\anaconda3\\Lib\\site-packages\\sklearn\\base.py\", line 1467, in wrapper\n",
      "    estimator._validate_params()\n",
      "  File \"C:\\Users\\saina\\anaconda3\\Lib\\site-packages\\sklearn\\base.py\", line 666, in _validate_params\n",
      "    validate_parameter_constraints(\n",
      "  File \"C:\\Users\\saina\\anaconda3\\Lib\\site-packages\\sklearn\\utils\\_param_validation.py\", line 95, in validate_parameter_constraints\n",
      "    raise InvalidParameterError(\n",
      "sklearn.utils._param_validation.InvalidParameterError: The 'max_features' parameter of RandomForestRegressor must be an int in the range [1, inf), a float in the range (0.0, 1.0], a str among {'sqrt', 'log2'} or None. Got 'auto' instead.\n",
      "\n",
      "  warnings.warn(some_fits_failed_message, FitFailedWarning)\n",
      "C:\\Users\\saina\\anaconda3\\Lib\\site-packages\\sklearn\\model_selection\\_search.py:1051: UserWarning: One or more of the test scores are non-finite: [-0.22506068         nan -0.21274116 -0.35126011         nan         nan\n",
      "         nan         nan -0.22475491 -0.25773112 -0.35223458 -0.23194944\n",
      " -0.23291509         nan -0.24233406 -0.3472655  -0.3633895  -0.21616913\n",
      " -0.2572208  -0.21723757         nan         nan -0.20938303 -0.21800306\n",
      "         nan -0.2257603          nan         nan         nan -0.20385054\n",
      " -0.2647353          nan         nan -0.23275948 -0.35194689 -0.19350729\n",
      "         nan -0.35122185 -0.2239198          nan -0.21720365 -0.22360262\n",
      "         nan         nan         nan -0.35316994         nan -0.19757732\n",
      "         nan         nan         nan -0.25771802         nan         nan\n",
      " -0.23199076         nan -0.34961152         nan         nan         nan\n",
      "         nan         nan         nan -0.25842827         nan         nan\n",
      "         nan -0.19775024 -0.20508016 -0.25861979 -0.35432645         nan\n",
      "         nan         nan -0.34920892         nan         nan         nan\n",
      " -0.21689042         nan -0.23400949 -0.36304559 -0.23138566 -0.21689836\n",
      "         nan -0.18472662         nan         nan         nan         nan\n",
      " -0.25750434         nan -0.23474544 -0.23246158 -0.18540666         nan\n",
      " -0.25732624         nan         nan         nan]\n",
      "  warnings.warn(\n"
     ]
    },
    {
     "name": "stdout",
     "output_type": "stream",
     "text": [
      "Best Random Forest Parameters: {'n_estimators': 300, 'min_samples_split': 10, 'min_samples_leaf': 1, 'max_features': 'sqrt', 'max_depth': 30, 'bootstrap': False}\n",
      "Training Metrics:\n",
      "MSE: 14671442668.14681\n",
      "MAE: 66425.20442959013\n",
      "R^2: 0.963829250288357\n",
      "MAPE: 11.088976447036162%\n",
      "\n",
      "Test Metrics:\n",
      "MSE: 39614826587.19786\n",
      "MAE: 103920.71985398664\n",
      "R^2: 0.9103773305189297\n",
      "MAPE: 17.535655577897263%\n"
     ]
    }
   ],
   "source": [
    "# Random Forest : Tuning using random search cv and testing again\n",
    "from sklearn.model_selection import RandomizedSearchCV\n",
    "\n",
    "rf_model = RandomForestRegressor(random_state=42)\n",
    "\n",
    "# Define the parameter grid for RandomizedSearchCV\n",
    "param_distributions = {\n",
    "    'n_estimators': [100, 200, 300, 400, 500],\n",
    "    'max_depth': [None, 10, 20, 30, 40],\n",
    "    'min_samples_split': [2, 5, 10],\n",
    "    'min_samples_leaf': [1, 2, 4],\n",
    "    'max_features': ['auto', 'sqrt'],\n",
    "    'bootstrap': [True, False]\n",
    "}\n",
    "\n",
    "# Hyperparameter tuning using RandomizedSearchCV\n",
    "rf_random_search = RandomizedSearchCV(\n",
    "    rf_model,\n",
    "    param_distributions=param_distributions,\n",
    "    n_iter=100,\n",
    "    scoring='neg_mean_absolute_percentage_error',\n",
    "    cv=5,\n",
    "    n_jobs=-1,\n",
    "    verbose=1,\n",
    "    random_state=42\n",
    ")\n",
    "\n",
    "# Fit the RandomizedSearchCV\n",
    "rf_random_search.fit(X_train, y_train)\n",
    "\n",
    "# Get the best parameters\n",
    "best_rf_params = rf_random_search.best_params_\n",
    "print(f\"Best Random Forest Parameters: {best_rf_params}\")\n",
    "\n",
    "# Initialize and train the Random Forest model with best parameters\n",
    "best_rf_model = RandomForestRegressor(\n",
    "    n_estimators=best_rf_params['n_estimators'],\n",
    "    max_depth=best_rf_params['max_depth'],\n",
    "    min_samples_split=best_rf_params['min_samples_split'],\n",
    "    min_samples_leaf=best_rf_params['min_samples_leaf'],\n",
    "    max_features=best_rf_params['max_features'],\n",
    "    bootstrap=best_rf_params['bootstrap'],\n",
    "    random_state=42\n",
    ")\n",
    "\n",
    "# Fit the model on the training data\n",
    "best_rf_model.fit(X_train, y_train)\n",
    "\n",
    "# Make predictions on training data\n",
    "y_train_pred = best_rf_model.predict(X_train)\n",
    "\n",
    "# Calculate metrics for the training set\n",
    "train_mse = mean_squared_error(y_train, y_train_pred)\n",
    "train_mae = mean_absolute_error(y_train, y_train_pred)\n",
    "train_r2 = r2_score(y_train, y_train_pred)\n",
    "train_mape = mean_absolute_percentage_error(y_train, y_train_pred) * 100\n",
    "\n",
    "# Print metrics for the training set\n",
    "print(f\"Training Metrics:\")\n",
    "print(f\"MSE: {train_mse}\")\n",
    "print(f\"MAE: {train_mae}\")\n",
    "print(f\"R^2: {train_r2}\")\n",
    "print(f\"MAPE: {train_mape}%\")\n",
    "\n",
    "# Make predictions on test data\n",
    "y_test_pred = best_rf_model.predict(X_test)\n",
    "\n",
    "# Calculate metrics for the test set\n",
    "test_mse = mean_squared_error(y_test, y_test_pred)\n",
    "test_mae = mean_absolute_error(y_test, y_test_pred)\n",
    "test_r2 = r2_score(y_test, y_test_pred)\n",
    "test_mape = mean_absolute_percentage_error(y_test, y_test_pred) * 100\n",
    "\n",
    "# Print metrics for the test set\n",
    "print(f\"\\nTest Metrics:\")\n",
    "print(f\"MSE: {test_mse}\")\n",
    "print(f\"MAE: {test_mae}\")\n",
    "print(f\"R^2: {test_r2}\")\n",
    "print(f\"MAPE: {test_mape}%\")"
   ]
  },
  {
   "cell_type": "code",
   "execution_count": 253,
   "id": "409de009-ee92-4b7a-bc63-394540c6049a",
   "metadata": {},
   "outputs": [
    {
     "name": "stdout",
     "output_type": "stream",
     "text": [
      "Fitting 5 folds for each of 50 candidates, totalling 250 fits\n",
      "Best XGBoost Parameters: {'subsample': 1.0, 'n_estimators': 100, 'max_depth': 10, 'learning_rate': 0.1, 'colsample_bytree': 0.8}\n",
      "XGBoost Training Metrics:\n",
      "MSE: 1739281507.2027473\n",
      "MAE: 29173.579885321586\n",
      "R^2: 0.9957120020506431\n",
      "MAPE: 5.553140648089869%\n",
      "XGBoost Test Metrics:\n",
      "MSE: 23585375709.142944\n",
      "MAE: 79763.75197821585\n",
      "R^2: 0.9466415856418141\n",
      "MAPE: 11.897716338579054%\n"
     ]
    }
   ],
   "source": [
    "# XGBoost : Tuning using random search cv and testing again\n",
    "\n",
    "xgb_model = XGBRegressor(random_state=42)\n",
    "\n",
    "# Define hyperparameter grid for RandomizedSearchCV\n",
    "param_distributions_xgb = {\n",
    "    'n_estimators': [100, 200, 300],\n",
    "    'max_depth': [3, 5, 10, 15, 20],\n",
    "    'learning_rate': [0.01, 0.1, 0.2, 0.3],\n",
    "    'subsample': [0.6, 0.8, 1.0],\n",
    "    'colsample_bytree': [0.6, 0.8, 1.0]\n",
    "}\n",
    "\n",
    "# Perform RandomizedSearchCV\n",
    "xgb_random_search = RandomizedSearchCV(\n",
    "    estimator=xgb_model,\n",
    "    param_distributions=param_distributions_xgb,\n",
    "    n_iter=50,\n",
    "    scoring='neg_mean_absolute_percentage_error',\n",
    "    cv=5,\n",
    "    n_jobs=-1,\n",
    "    verbose=1,\n",
    "    random_state=42\n",
    ")\n",
    "\n",
    "# Fit the model\n",
    "xgb_random_search.fit(X_train, y_train)\n",
    "\n",
    "# Get the best parameters\n",
    "best_xgb_params = xgb_random_search.best_params_\n",
    "print(f\"Best XGBoost Parameters: {best_xgb_params}\")\n",
    "\n",
    "# Initialize and train the XGBoost model with the best parameters\n",
    "best_xgb_model = XGBRegressor(\n",
    "    n_estimators=best_xgb_params['n_estimators'],\n",
    "    max_depth=best_xgb_params['max_depth'],\n",
    "    learning_rate=best_xgb_params['learning_rate'],\n",
    "    subsample=best_xgb_params['subsample'],\n",
    "    colsample_bytree=best_xgb_params['colsample_bytree'],\n",
    "    random_state=42\n",
    ")\n",
    "\n",
    "best_xgb_model.fit(X_train, y_train)\n",
    "\n",
    "# Make predictions on the training set\n",
    "y_train_pred_xgb = best_xgb_model.predict(X_train)\n",
    "\n",
    "# Calculate metrics for the training set\n",
    "mse_train_xgb = mean_squared_error(y_train, y_train_pred_xgb)\n",
    "mae_train_xgb = mean_absolute_error(y_train, y_train_pred_xgb)\n",
    "r2_train_xgb = r2_score(y_train, y_train_pred_xgb)\n",
    "mape_train_xgb = mean_absolute_percentage_error(y_train, y_train_pred_xgb) * 100\n",
    "\n",
    "# Print metrics for the training set\n",
    "print(f\"XGBoost Training Metrics:\")\n",
    "print(f\"MSE: {mse_train_xgb}\")\n",
    "print(f\"MAE: {mae_train_xgb}\")\n",
    "print(f\"R^2: {r2_train_xgb}\")\n",
    "print(f\"MAPE: {mape_train_xgb}%\")\n",
    "\n",
    "# Make predictions on the test set\n",
    "y_test_pred_xgb = best_xgb_model.predict(X_test)\n",
    "\n",
    "# Calculate metrics for the test set\n",
    "mse_test_xgb = mean_squared_error(y_test, y_test_pred_xgb)\n",
    "mae_test_xgb = mean_absolute_error(y_test, y_test_pred_xgb)\n",
    "r2_test_xgb = r2_score(y_test, y_test_pred_xgb)\n",
    "mape_test_xgb = mean_absolute_percentage_error(y_test, y_test_pred_xgb) * 100\n",
    "\n",
    "# Print metrics for the test set\n",
    "print(f\"XGBoost Test Metrics:\")\n",
    "print(f\"MSE: {mse_test_xgb}\")\n",
    "print(f\"MAE: {mae_test_xgb}\")\n",
    "print(f\"R^2: {r2_test_xgb}\")\n",
    "print(f\"MAPE: {mape_test_xgb}%\")"
   ]
  },
  {
   "cell_type": "code",
   "execution_count": 248,
   "id": "0b4eac80-0551-4319-8be5-cb41ebcab9f8",
   "metadata": {},
   "outputs": [],
   "source": [
    "# We can see that even after tuning the hyper parameters for xgboost , we are getting almost the same R^2 scores ."
   ]
  },
  {
   "cell_type": "markdown",
   "id": "78529198-1110-441c-ba39-cbb148b905b1",
   "metadata": {},
   "source": [
    "### Regularization techniques Lasso, Ridge"
   ]
  },
  {
   "cell_type": "code",
   "execution_count": 249,
   "id": "06b2a57c-f259-4b25-a33e-85a027aabc98",
   "metadata": {},
   "outputs": [
    {
     "name": "stdout",
     "output_type": "stream",
     "text": [
      "                     MSE_train      MAE_train  R2_train  MAPE_train  \\\n",
      "Ridge Regression  5.735454e+10  134379.560801  0.858599   25.159768   \n",
      "Lasso Regression  5.644449e+10  132405.921317  0.860843   24.734349   \n",
      "\n",
      "                      MSE_test       MAE_test   R2_test  MAPE_test  \n",
      "Ridge Regression  6.413396e+10  144193.177624  0.854906  25.167451  \n",
      "Lasso Regression  6.387443e+10  141719.521042  0.855494  24.795948  \n"
     ]
    },
    {
     "name": "stderr",
     "output_type": "stream",
     "text": [
      "C:\\Users\\saina\\anaconda3\\Lib\\site-packages\\sklearn\\linear_model\\_coordinate_descent.py:678: ConvergenceWarning: Objective did not converge. You might want to increase the number of iterations, check the scale of the features or consider increasing regularisation. Duality gap: 1.672e+14, tolerance: 2.400e+11\n",
      "  model = cd_fast.enet_coordinate_descent(\n"
     ]
    }
   ],
   "source": [
    "from sklearn.linear_model import LinearRegression, Ridge, Lasso\n",
    "\n",
    "models = {\n",
    "    'Ridge Regression': Ridge(),\n",
    "    'Lasso Regression': Lasso(),\n",
    "}\n",
    "# Store the results\n",
    "results = {}\n",
    "\n",
    "# Evaluate each model\n",
    "for model_name, model in models.items():\n",
    "    # Train the model\n",
    "    model.fit(X_train, y_train)\n",
    "    \n",
    "    # Make predictions\n",
    "    y_train_pred = model.predict(X_train)\n",
    "    y_test_pred = model.predict(X_test)\n",
    "    \n",
    "    # Calculate metrics\n",
    "    mse_train = mean_squared_error(y_train, y_train_pred)\n",
    "    mae_train = mean_absolute_error(y_train, y_train_pred)\n",
    "    r2_train = r2_score(y_train, y_train_pred)\n",
    "    mape_train = mean_absolute_percentage_error(y_train, y_train_pred) * 100\n",
    "    \n",
    "    mse_test = mean_squared_error(y_test, y_test_pred)\n",
    "    mae_test = mean_absolute_error(y_test, y_test_pred)\n",
    "    r2_test = r2_score(y_test, y_test_pred)\n",
    "    mape_test = mean_absolute_percentage_error(y_test, y_test_pred) * 100\n",
    "    \n",
    "    # Store the results\n",
    "    results[model_name] = {\n",
    "        'MSE_train': mse_train,\n",
    "        'MAE_train': mae_train,\n",
    "        'R2_train': r2_train,\n",
    "        'MAPE_train': mape_train,\n",
    "        'MSE_test': mse_test,\n",
    "        'MAE_test':mae_test,\n",
    "        'R2_test': r2_test,\n",
    "        'MAPE_test': mape_test\n",
    "    }\n",
    "\n",
    "# Convert results to DataFrame\n",
    "results_df = pd.DataFrame(results).T\n",
    "print(results_df)\n"
   ]
  },
  {
   "cell_type": "markdown",
   "id": "736a6fc9-16c4-43ca-8dd1-c269a791fa83",
   "metadata": {},
   "source": [
    "## We conclude that XGBoost is the best model with best scores out of everything"
   ]
  },
  {
   "cell_type": "markdown",
   "id": "7a3edf3d-8bec-4339-9b11-c52bf0d0920c",
   "metadata": {},
   "source": [
    "## Save the model"
   ]
  },
  {
   "cell_type": "code",
   "execution_count": 254,
   "id": "68aabf5c-0d9a-45cd-bee0-7b962e77c91c",
   "metadata": {},
   "outputs": [
    {
     "data": {
      "text/plain": [
       "['xgboost_ml_model.pkl']"
      ]
     },
     "execution_count": 254,
     "metadata": {},
     "output_type": "execute_result"
    }
   ],
   "source": [
    "import joblib\n",
    "\n",
    "# Save the model\n",
    "joblib.dump(best_xgb_model, 'xgboost_ml_model.pkl')\n"
   ]
  },
  {
   "cell_type": "code",
   "execution_count": 255,
   "id": "b286ce11-ee2e-4e29-a593-d3ee30dba8bd",
   "metadata": {},
   "outputs": [
    {
     "data": {
      "text/plain": [
       "['encoded_columns.pkl']"
      ]
     },
     "execution_count": 255,
     "metadata": {},
     "output_type": "execute_result"
    }
   ],
   "source": [
    "# Save column names for encoding\n",
    "encoded_columns = list(X_encoded.columns)\n",
    "joblib.dump(encoded_columns, 'encoded_columns.pkl')"
   ]
  }
 ],
 "metadata": {
  "kernelspec": {
   "display_name": "Python 3 (ipykernel)",
   "language": "python",
   "name": "python3"
  },
  "language_info": {
   "codemirror_mode": {
    "name": "ipython",
    "version": 3
   },
   "file_extension": ".py",
   "mimetype": "text/x-python",
   "name": "python",
   "nbconvert_exporter": "python",
   "pygments_lexer": "ipython3",
   "version": "3.12.4"
  }
 },
 "nbformat": 4,
 "nbformat_minor": 5
}
